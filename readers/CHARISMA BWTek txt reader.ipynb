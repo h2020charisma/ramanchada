{
 "cells": [
  {
   "cell_type": "code",
   "execution_count": 125,
   "metadata": {},
   "outputs": [],
   "source": [
    "file = r\"Z:\\WP Space\\WP 4\\Spectrum database\\Data from ELoDiz\\txt files graphene BWTek iRaman Plus 785S\\Sample 2 5min analysis Run2.txt\""
   ]
  },
  {
   "cell_type": "code",
   "execution_count": 115,
   "metadata": {},
   "outputs": [],
   "source": [
    "# Using readlines()\n",
    "file1 = open(file, 'r')\n",
    "Lines = file1.readlines()"
   ]
  },
  {
   "cell_type": "code",
   "execution_count": 4,
   "metadata": {},
   "outputs": [
    {
     "data": {
      "text/plain": [
       "'File Version;BWRam4.10\\n'"
      ]
     },
     "execution_count": 4,
     "metadata": {},
     "output_type": "execute_result"
    }
   ],
   "source": [
    "Lines[0]"
   ]
  },
  {
   "cell_type": "code",
   "execution_count": 14,
   "metadata": {},
   "outputs": [
    {
     "data": {
      "text/plain": [
       "'BWRam4.1'"
      ]
     },
     "execution_count": 14,
     "metadata": {},
     "output_type": "execute_result"
    }
   ],
   "source": [
    "Lines[0].split(';')[1][:-2]"
   ]
  },
  {
   "cell_type": "code",
   "execution_count": 4,
   "metadata": {},
   "outputs": [],
   "source": [
    "def get_data_startline(file):\n",
    "    file1 = open(file, 'r')\n",
    "    Lines = file1.readlines()\n",
    "    for ii, l in enumerate(Lines):\n",
    "        if l[0].isdigit():\n",
    "            return ii-1"
   ]
  },
  {
   "cell_type": "code",
   "execution_count": 17,
   "metadata": {},
   "outputs": [
    {
     "data": {
      "text/plain": [
       "88"
      ]
     },
     "execution_count": 17,
     "metadata": {},
     "output_type": "execute_result"
    }
   ],
   "source": [
    "get_data_startline(file)"
   ]
  },
  {
   "cell_type": "code",
   "execution_count": 18,
   "metadata": {},
   "outputs": [],
   "source": [
    "meta = {}"
   ]
  },
  {
   "cell_type": "code",
   "execution_count": 19,
   "metadata": {},
   "outputs": [],
   "source": [
    "meta[Lines[0].split(';')[0]] = Lines[0].split(';')[1][:-2]"
   ]
  },
  {
   "cell_type": "code",
   "execution_count": 20,
   "metadata": {},
   "outputs": [
    {
     "data": {
      "text/plain": [
       "{'File Version': 'BWRam4.1'}"
      ]
     },
     "execution_count": 20,
     "metadata": {},
     "output_type": "execute_result"
    }
   ],
   "source": [
    "meta"
   ]
  },
  {
   "cell_type": "code",
   "execution_count": 23,
   "metadata": {},
   "outputs": [],
   "source": [
    "meta = {}\n",
    "for l in Lines[:88]:\n",
    "    meta[l.split(';')[0]] = l.split(';')[1][:-2]"
   ]
  },
  {
   "cell_type": "code",
   "execution_count": 116,
   "metadata": {},
   "outputs": [],
   "source": [
    "def get_meta(file):\n",
    "    file1 = open(file, 'r')\n",
    "    Lines = file1.readlines()\n",
    "    meta = {}\n",
    "    start_n = get_data_startline(file)\n",
    "    for l in Lines[:start_n]:\n",
    "        meta[l.split(';')[0]] = l.split(';')[1][:-2]\n",
    "    return meta"
   ]
  },
  {
   "cell_type": "code",
   "execution_count": 117,
   "metadata": {},
   "outputs": [
    {
     "data": {
      "text/plain": [
       "{'File Version': 'BWRam4.1',\n",
       " 'Date': '2017-12-12 11:19:3',\n",
       " 'title': 'BWS465-532',\n",
       " 'model': 'BTC665N-532H-SY',\n",
       " 'c code': 'RO',\n",
       " 'operator': '',\n",
       " 'port1': '',\n",
       " 'baud1': '',\n",
       " 'pixel_start': '',\n",
       " 'pixel_end': '204',\n",
       " 'step': '',\n",
       " 'units': '',\n",
       " 'bkcolor': '1677721',\n",
       " 'show_mode': '',\n",
       " 'data_mode': '',\n",
       " 'pixel_mode': '',\n",
       " 'intigration times(ms)': '6000',\n",
       " 'average number': '',\n",
       " 'time_multiply': '',\n",
       " 'spectrometer_type': '7',\n",
       " 'yaxis': '',\n",
       " 'yaxis_min': '-50',\n",
       " 'yaxis_max': '200',\n",
       " 'xaxis': '',\n",
       " 'xaxis_min': '',\n",
       " 'xaxis_max': '204',\n",
       " 'irrands_DispWLMin': '10',\n",
       " 'irrands_DispWLMax': '100',\n",
       " 'yaxis_min_6': '',\n",
       " 'yaxis_max_6': '6553',\n",
       " 'irradiance_unit': '',\n",
       " 'Color_Data_Flag': '',\n",
       " 'Color_StartWL': '53',\n",
       " 'Color_EndWL': '65',\n",
       " 'Color_IncWL': '1',\n",
       " 'power_unit_index': '',\n",
       " 'photometric_index': '',\n",
       " 'Illuminant_index': '',\n",
       " 'observer_index': '',\n",
       " 'lab_l': '',\n",
       " 'lab_a': '',\n",
       " 'lab_b': '',\n",
       " 'radiometric_flag': '',\n",
       " 'coefs_a0': '529.11960265238',\n",
       " 'coefs_a1': '0.06852112433378',\n",
       " 'coefs_a2': '-3.2739354255359E-0',\n",
       " 'coefs_a3': '-4.51506478999362E-1',\n",
       " 'coefs_b0': '-18794.097719091',\n",
       " 'coefs_b1': '79.938570919324',\n",
       " 'coefs_b2': '-0.12863017240635',\n",
       " 'coefs_b3': '8.44386717260981E-0',\n",
       " 'coefs_r0': '',\n",
       " 'coefs_r1': '',\n",
       " 'coefs_r2': '',\n",
       " 'coefs_r3': '',\n",
       " 'coefs_j0': '',\n",
       " 'coefs_j1': '',\n",
       " 'coefs_j2': '',\n",
       " 'coefs_j3': '',\n",
       " 'enable_coefs_r': '',\n",
       " 'all_data_save': '',\n",
       " 'select_option': '-',\n",
       " 'interval_time': '6000',\n",
       " 'pixel_num': '204',\n",
       " 'sel_pixel_start': '',\n",
       " 'sel_pixel_end': '203',\n",
       " 'sel_pixel_delta': '',\n",
       " 'dark_compensate': '',\n",
       " 'dark_compensate_value_1': '',\n",
       " 'dark_compensate_value_2': '',\n",
       " 'dark_compensate_value_3': '',\n",
       " 'monitor pixel_0': '',\n",
       " 'monitor pixel_1': '',\n",
       " 'monitor pixel_2': '',\n",
       " 'monitor pixel_3': '',\n",
       " 'monitor pixel_4': '',\n",
       " 'monitor pixel_5': '',\n",
       " 'vertical_select_flag': '',\n",
       " 'vertical_line3': '6',\n",
       " 'vertical_line4': '6',\n",
       " 'vertical_line3_wv': '39',\n",
       " 'vertical_line4_wv': '39',\n",
       " 'vertical_line_flag': '',\n",
       " 'vertical_line_ratio': '',\n",
       " 'laser_wavelength': '53',\n",
       " 'laser_powerlevel': '10',\n",
       " 'overlay_js': '',\n",
       " 'Relative Intensity Correction Flag': ''}"
      ]
     },
     "execution_count": 117,
     "metadata": {},
     "output_type": "execute_result"
    }
   ],
   "source": [
    "get_meta(file)"
   ]
  },
  {
   "cell_type": "code",
   "execution_count": 7,
   "metadata": {},
   "outputs": [
    {
     "data": {
      "text/plain": [
       "['Pixel',\n",
       " 'Wavelength',\n",
       " 'Wavenumber',\n",
       " 'Raman Shift',\n",
       " 'Dark',\n",
       " 'Reference',\n",
       " 'Raw data #1',\n",
       " 'Dark Subtracted #1',\n",
       " '%TR #1',\n",
       " 'Absorbance #1',\n",
       " 'Irradiance (W/cm^2/nm) #1',\n",
       " '\\n']"
      ]
     },
     "execution_count": 7,
     "metadata": {},
     "output_type": "execute_result"
    }
   ],
   "source": [
    "start_n = get_data_startline(file)\n",
    "titles = Lines[start_n].split(';')\n",
    "titles"
   ]
  },
  {
   "cell_type": "code",
   "execution_count": 83,
   "metadata": {},
   "outputs": [
    {
     "data": {
      "text/plain": [
       "['0',\n",
       " '   ',\n",
       " '   ',\n",
       " '   ',\n",
       " '934,2000',\n",
       " '65535,0000',\n",
       " '907,4000',\n",
       " '-26,8000',\n",
       " '0,0000',\n",
       " '0,0000',\n",
       " '0,0000',\n",
       " '\\n']"
      ]
     },
     "execution_count": 83,
     "metadata": {},
     "output_type": "execute_result"
    }
   ],
   "source": [
    "start_n = get_data_startline(file)\n",
    "numbers = Lines[start_n+1].split(';')\n",
    "numbers"
   ]
  },
  {
   "cell_type": "code",
   "execution_count": 17,
   "metadata": {},
   "outputs": [],
   "source": [
    "import numpy as np"
   ]
  },
  {
   "cell_type": "code",
   "execution_count": 16,
   "metadata": {},
   "outputs": [
    {
     "data": {
      "text/plain": [
       "7"
      ]
     },
     "execution_count": 16,
     "metadata": {},
     "output_type": "execute_result"
    }
   ],
   "source": [
    "['Dark Subtracted' in t for t in titles].index(True)"
   ]
  },
  {
   "cell_type": "code",
   "execution_count": 118,
   "metadata": {},
   "outputs": [],
   "source": [
    "def get_data(file):\n",
    "    counts = []\n",
    "    wavenumbers = []\n",
    "    file1 = open(file, 'r')\n",
    "    Lines = file1.readlines()\n",
    "    column_names_n = get_data_startline(file)\n",
    "    column_names = Lines[column_names_n].split(';')\n",
    "    wn_index = column_names.index('Raman Shift')\n",
    "    cts_index = ['Dark Subtracted' in c for c in column_names].index(True)\n",
    "    for l in Lines[column_names_n+1:]:\n",
    "        if not l.split(';')[wn_index].isspace():\n",
    "            wavenumbers.append(l.split(';')[wn_index].replace(\",\", \".\"))\n",
    "            counts.append(l.split(';')[cts_index].replace(\",\", \".\"))\n",
    "    return np.double(wavenumbers), np.double(counts)"
   ]
  },
  {
   "cell_type": "code",
   "execution_count": 126,
   "metadata": {},
   "outputs": [],
   "source": [
    "w, c = get_data(file)"
   ]
  },
  {
   "cell_type": "code",
   "execution_count": 120,
   "metadata": {},
   "outputs": [],
   "source": [
    "import matplotlib.pyplot as plt"
   ]
  },
  {
   "cell_type": "code",
   "execution_count": 127,
   "metadata": {},
   "outputs": [
    {
     "data": {
      "image/png": "[encoded data removed]",
      "text/plain": [
       "<Figure size 432x288 with 1 Axes>"
      ]
     },
     "metadata": {
      "needs_background": "light"
     },
     "output_type": "display_data"
    }
   ],
   "source": [
    "plt.plot(w, c)\n",
    "plt.show()"
   ]
  },
  {
   "cell_type": "code",
   "execution_count": 128,
   "metadata": {},
   "outputs": [],
   "source": [
    "file = r\"Z:\\WP Space\\WP 4\\Spectrum database\\WITec and BWtek from FNMT\\ICV-BWS415-785S_BTA_PS.txt.txt\""
   ]
  },
  {
   "cell_type": "code",
   "execution_count": 131,
   "metadata": {},
   "outputs": [],
   "source": [
    "w, c = get_data(file)"
   ]
  },
  {
   "cell_type": "code",
   "execution_count": 132,
   "metadata": {},
   "outputs": [
    {
     "data": {
      "image/png": "[encoded data removed]",
      "text/plain": [
       "<Figure size 432x288 with 1 Axes>"
      ]
     },
     "metadata": {
      "needs_background": "light"
     },
     "output_type": "display_data"
    }
   ],
   "source": [
    "plt.plot(w, c)\n",
    "plt.show()"
   ]
  },
  {
   "cell_type": "code",
   "execution_count": null,
   "metadata": {},
   "outputs": [],
   "source": []
  }
 ],
 "metadata": {
  "kernelspec": {
   "display_name": "Python 3",
   "language": "python",
   "name": "python3"
  },
  "language_info": {
   "codemirror_mode": {
    "name": "ipython",
    "version": 3
   },
   "file_extension": ".py",
   "mimetype": "text/x-python",
   "name": "python",
   "nbconvert_exporter": "python",
   "pygments_lexer": "ipython3",
   "version": "3.7.6"
  }
 },
 "nbformat": 4,
 "nbformat_minor": 4
}
