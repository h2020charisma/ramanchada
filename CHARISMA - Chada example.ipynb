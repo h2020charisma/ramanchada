{
 "cells": [
  {
   "cell_type": "markdown",
   "metadata": {},
   "source": [
    "# Example of CHADA file generation using Chada Python class"
   ]
  },
  {
   "cell_type": "markdown",
   "metadata": {},
   "source": [
    "Ignore this part"
   ]
  },
  {
   "cell_type": "code",
   "execution_count": 8,
   "metadata": {},
   "outputs": [],
   "source": [
    "import sys\n",
    "import os.path"
   ]
  },
  {
   "cell_type": "code",
   "execution_count": null,
   "metadata": {},
   "outputs": [],
   "source": [
    "print(sys.path)"
   ]
  },
  {
   "cell_type": "code",
   "execution_count": 41,
   "metadata": {},
   "outputs": [],
   "source": [
    "#we shall create python module instead of adding user specific paths\n",
    "path = r\"\\\\vm-stor-51\\alle\\Projekte Kunststoffe\\RD\\MA\\Öffentliche_Projekte\\2020-01-07_230007_H2020-CHARISMA_barton\\Python\\charisma-raman-spectrum-harmonization\"\n",
    "if path not in sys.path:\n",
    "    sys.path.append(path)"
   ]
  },
  {
   "cell_type": "markdown",
   "metadata": {},
   "source": [
    "#### Import Chada class"
   ]
  },
  {
   "cell_type": "code",
   "execution_count": 11,
   "metadata": {},
   "outputs": [],
   "source": [
    "from chada import Chada"
   ]
  },
  {
   "cell_type": "markdown",
   "metadata": {},
   "source": [
    "#### Specify file path"
   ]
  },
  {
   "cell_type": "code",
   "execution_count": 12,
   "metadata": {},
   "outputs": [],
   "source": [
    "\n",
    "file = os.path.join(\"test spectra\",\"200218-17.wdf\")"
   ]
  },
  {
   "cell_type": "markdown",
   "metadata": {},
   "source": [
    "#### Create CHADA instance"
   ]
  },
  {
   "cell_type": "code",
   "execution_count": 13,
   "metadata": {},
   "outputs": [],
   "source": [
    "C = Chada(file)"
   ]
  },
  {
   "cell_type": "markdown",
   "metadata": {},
   "source": [
    "#### Display meta data"
   ]
  },
  {
   "cell_type": "code",
   "execution_count": 14,
   "metadata": {},
   "outputs": [
    {
     "data": {
      "text/html": [
       "<div>\n",
       "<style scoped>\n",
       "    .dataframe tbody tr th:only-of-type {\n",
       "        vertical-align: middle;\n",
       "    }\n",
       "\n",
       "    .dataframe tbody tr th {\n",
       "        vertical-align: top;\n",
       "    }\n",
       "\n",
       "    .dataframe thead th {\n",
       "        text-align: right;\n",
       "    }\n",
       "</style>\n",
       "<table border=\"1\" class=\"dataframe\">\n",
       "  <thead>\n",
       "    <tr style=\"text-align: right;\">\n",
       "      <th></th>\n",
       "      <th>value</th>\n",
       "    </tr>\n",
       "  </thead>\n",
       "  <tbody>\n",
       "    <tr>\n",
       "      <th>original filepath</th>\n",
       "      <td>test spectra\\200218-17.wdf</td>\n",
       "    </tr>\n",
       "    <tr>\n",
       "      <th>native format</th>\n",
       "      <td>.wdf</td>\n",
       "    </tr>\n",
       "    <tr>\n",
       "      <th>laser wavelength</th>\n",
       "      <td>514.501196</td>\n",
       "    </tr>\n",
       "    <tr>\n",
       "      <th>no. of accumulations</th>\n",
       "      <td>3</td>\n",
       "    </tr>\n",
       "    <tr>\n",
       "      <th>spectral unit</th>\n",
       "      <td>Counts</td>\n",
       "    </tr>\n",
       "    <tr>\n",
       "      <th>OEM software name</th>\n",
       "      <td>WiRE</td>\n",
       "    </tr>\n",
       "    <tr>\n",
       "      <th>OEM software version</th>\n",
       "      <td>[5, 2, 0, 9499]</td>\n",
       "    </tr>\n",
       "    <tr>\n",
       "      <th>minimum wavelength</th>\n",
       "      <td>102.769531</td>\n",
       "    </tr>\n",
       "    <tr>\n",
       "      <th>maximum wavelength</th>\n",
       "      <td>3703.710938</td>\n",
       "    </tr>\n",
       "    <tr>\n",
       "      <th>no. of channels</th>\n",
       "      <td>3190</td>\n",
       "    </tr>\n",
       "    <tr>\n",
       "      <th>mean counts</th>\n",
       "      <td>62918.378906</td>\n",
       "    </tr>\n",
       "    <tr>\n",
       "      <th>standard deviation</th>\n",
       "      <td>27122.378906</td>\n",
       "    </tr>\n",
       "  </tbody>\n",
       "</table>\n",
       "</div>"
      ],
      "text/plain": [
       "                                           value\n",
       "original filepath     test spectra\\200218-17.wdf\n",
       "native format                               .wdf\n",
       "laser wavelength                      514.501196\n",
       "no. of accumulations                           3\n",
       "spectral unit                             Counts\n",
       "OEM software name                           WiRE\n",
       "OEM software version             [5, 2, 0, 9499]\n",
       "minimum wavelength                    102.769531\n",
       "maximum wavelength                   3703.710938\n",
       "no. of channels                             3190\n",
       "mean counts                         62918.378906\n",
       "standard deviation                  27122.378906"
      ]
     },
     "execution_count": 14,
     "metadata": {},
     "output_type": "execute_result"
    }
   ],
   "source": [
    "C.meta()"
   ]
  },
  {
   "cell_type": "code",
   "execution_count": null,
   "metadata": {},
   "outputs": [],
   "source": []
  },
  {
   "cell_type": "markdown",
   "metadata": {},
   "source": [
    "#### Plot spectrum"
   ]
  },
  {
   "cell_type": "markdown",
   "metadata": {},
   "source": [
    "The native file is always preserved, never altered, and never duplicated. Instead, methods such as \"plot\" pull the data from the native file inside the container each time."
   ]
  },
  {
   "cell_type": "code",
   "execution_count": 15,
   "metadata": {},
   "outputs": [
    {
     "data": {
      "image/png": "[encoded data removed]",
      "text/plain": [
       "<Figure size 576x288 with 1 Axes>"
      ]
     },
     "metadata": {
      "needs_background": "light"
     },
     "output_type": "display_data"
    }
   ],
   "source": [
    "C.plot()"
   ]
  },
  {
   "cell_type": "markdown",
   "metadata": {},
   "source": [
    "#### Find peaks & show positions"
   ]
  },
  {
   "cell_type": "code",
   "execution_count": 16,
   "metadata": {},
   "outputs": [
    {
     "data": {
      "image/png": "[encoded data removed]",
      "text/plain": [
       "<Figure size 576x288 with 1 Axes>"
      ]
     },
     "metadata": {
      "needs_background": "light"
     },
     "output_type": "display_data"
    }
   ],
   "source": [
    "C.peaks(True)"
   ]
  },
  {
   "cell_type": "markdown",
   "metadata": {},
   "source": [
    "CHADA object now has a \"bands\" attribute"
   ]
  },
  {
   "cell_type": "code",
   "execution_count": 17,
   "metadata": {},
   "outputs": [
    {
     "data": {
      "text/html": [
       "<div>\n",
       "<style scoped>\n",
       "    .dataframe tbody tr th:only-of-type {\n",
       "        vertical-align: middle;\n",
       "    }\n",
       "\n",
       "    .dataframe tbody tr th {\n",
       "        vertical-align: top;\n",
       "    }\n",
       "\n",
       "    .dataframe thead th {\n",
       "        text-align: right;\n",
       "    }\n",
       "</style>\n",
       "<table border=\"1\" class=\"dataframe\">\n",
       "  <thead>\n",
       "    <tr style=\"text-align: right;\">\n",
       "      <th></th>\n",
       "      <th>peak pos [1/cm]</th>\n",
       "      <th>peak_heights</th>\n",
       "      <th>prominences</th>\n",
       "      <th>left_bases</th>\n",
       "      <th>right_bases</th>\n",
       "    </tr>\n",
       "  </thead>\n",
       "  <tbody>\n",
       "    <tr>\n",
       "      <th>0</th>\n",
       "      <td>124.789062</td>\n",
       "      <td>0.138841</td>\n",
       "      <td>0.063375</td>\n",
       "      <td>102.769531</td>\n",
       "      <td>313.140625</td>\n",
       "    </tr>\n",
       "    <tr>\n",
       "      <th>1</th>\n",
       "      <td>631.638672</td>\n",
       "      <td>0.151766</td>\n",
       "      <td>0.119658</td>\n",
       "      <td>313.140625</td>\n",
       "      <td>650.863281</td>\n",
       "    </tr>\n",
       "    <tr>\n",
       "      <th>2</th>\n",
       "      <td>859.189453</td>\n",
       "      <td>0.242811</td>\n",
       "      <td>0.176096</td>\n",
       "      <td>313.140625</td>\n",
       "      <td>920.322266</td>\n",
       "    </tr>\n",
       "    <tr>\n",
       "      <th>3</th>\n",
       "      <td>1095.613281</td>\n",
       "      <td>0.194785</td>\n",
       "      <td>0.090611</td>\n",
       "      <td>920.322266</td>\n",
       "      <td>1159.972656</td>\n",
       "    </tr>\n",
       "    <tr>\n",
       "      <th>4</th>\n",
       "      <td>1290.794922</td>\n",
       "      <td>0.313549</td>\n",
       "      <td>0.173357</td>\n",
       "      <td>313.140625</td>\n",
       "      <td>1347.218750</td>\n",
       "    </tr>\n",
       "    <tr>\n",
       "      <th>5</th>\n",
       "      <td>1615.630859</td>\n",
       "      <td>1.000000</td>\n",
       "      <td>0.785282</td>\n",
       "      <td>313.140625</td>\n",
       "      <td>1655.207031</td>\n",
       "    </tr>\n",
       "    <tr>\n",
       "      <th>6</th>\n",
       "      <td>1727.773438</td>\n",
       "      <td>0.749621</td>\n",
       "      <td>0.504528</td>\n",
       "      <td>1655.207031</td>\n",
       "      <td>1783.171875</td>\n",
       "    </tr>\n",
       "    <tr>\n",
       "      <th>7</th>\n",
       "      <td>2966.837891</td>\n",
       "      <td>0.583737</td>\n",
       "      <td>0.137056</td>\n",
       "      <td>1783.171875</td>\n",
       "      <td>3046.316406</td>\n",
       "    </tr>\n",
       "    <tr>\n",
       "      <th>8</th>\n",
       "      <td>3083.742188</td>\n",
       "      <td>0.745611</td>\n",
       "      <td>0.314901</td>\n",
       "      <td>1783.171875</td>\n",
       "      <td>3382.882812</td>\n",
       "    </tr>\n",
       "  </tbody>\n",
       "</table>\n",
       "</div>"
      ],
      "text/plain": [
       "   peak pos [1/cm]  peak_heights  prominences   left_bases  right_bases\n",
       "0       124.789062      0.138841     0.063375   102.769531   313.140625\n",
       "1       631.638672      0.151766     0.119658   313.140625   650.863281\n",
       "2       859.189453      0.242811     0.176096   313.140625   920.322266\n",
       "3      1095.613281      0.194785     0.090611   920.322266  1159.972656\n",
       "4      1290.794922      0.313549     0.173357   313.140625  1347.218750\n",
       "5      1615.630859      1.000000     0.785282   313.140625  1655.207031\n",
       "6      1727.773438      0.749621     0.504528  1655.207031  1783.171875\n",
       "7      2966.837891      0.583737     0.137056  1783.171875  3046.316406\n",
       "8      3083.742188      0.745611     0.314901  1783.171875  3382.882812"
      ]
     },
     "execution_count": 17,
     "metadata": {},
     "output_type": "execute_result"
    }
   ],
   "source": [
    "C.bands"
   ]
  },
  {
   "cell_type": "markdown",
   "metadata": {},
   "source": [
    "#### Make baseline model using ALS algorithm"
   ]
  },
  {
   "cell_type": "code",
   "execution_count": 18,
   "metadata": {},
   "outputs": [],
   "source": [
    "C.base()"
   ]
  },
  {
   "cell_type": "code",
   "execution_count": 19,
   "metadata": {},
   "outputs": [],
   "source": [
    "import matplotlib.pyplot as plt "
   ]
  },
  {
   "cell_type": "markdown",
   "metadata": {},
   "source": [
    "Using pyplot, the baseline model can be shown together with the data"
   ]
  },
  {
   "cell_type": "code",
   "execution_count": 20,
   "metadata": {
    "scrolled": false
   },
   "outputs": [
    {
     "data": {
      "image/png": "[encoded data removed]",
      "text/plain": [
       "<Figure size 576x288 with 1 Axes>"
      ]
     },
     "metadata": {
      "needs_background": "light"
     },
     "output_type": "display_data"
    }
   ],
   "source": [
    "fig = plt.figure(figsize=[8,4])\n",
    "plt.plot(C.data()[0], C.data()[1] + C.background_model, 'k')\n",
    "plt.plot(C.data()[0], C.background_model, 'r')\n",
    "plt.xlabel('Raman shift [rel. 1/cm]')\n",
    "plt.ylabel('counts')\n",
    "plt.grid(axis='x', which='both', linestyle=':')\n",
    "plt.yticks([])\n",
    "plt.show()"
   ]
  },
  {
   "cell_type": "markdown",
   "metadata": {},
   "source": [
    "\"plot\" looks for an existing baseline model and subtracts if available. The raw data is preserved, and so is the original (native) file."
   ]
  },
  {
   "cell_type": "code",
   "execution_count": 21,
   "metadata": {},
   "outputs": [
    {
     "data": {
      "image/png": "[encoded data removed]",
      "text/plain": [
       "<Figure size 576x288 with 1 Axes>"
      ]
     },
     "metadata": {
      "needs_background": "light"
     },
     "output_type": "display_data"
    }
   ],
   "source": [
    "C.plot()"
   ]
  },
  {
   "cell_type": "markdown",
   "metadata": {},
   "source": [
    "Of course, we should find the same peaks."
   ]
  },
  {
   "cell_type": "code",
   "execution_count": 22,
   "metadata": {},
   "outputs": [
    {
     "data": {
      "image/png": "[encoded data removed]",
      "text/plain": [
       "<Figure size 576x288 with 1 Axes>"
      ]
     },
     "metadata": {
      "needs_background": "light"
     },
     "output_type": "display_data"
    }
   ],
   "source": [
    "C.peaks(True)"
   ]
  },
  {
   "cell_type": "code",
   "execution_count": 23,
   "metadata": {},
   "outputs": [
    {
     "data": {
      "text/html": [
       "<div>\n",
       "<style scoped>\n",
       "    .dataframe tbody tr th:only-of-type {\n",
       "        vertical-align: middle;\n",
       "    }\n",
       "\n",
       "    .dataframe tbody tr th {\n",
       "        vertical-align: top;\n",
       "    }\n",
       "\n",
       "    .dataframe thead th {\n",
       "        text-align: right;\n",
       "    }\n",
       "</style>\n",
       "<table border=\"1\" class=\"dataframe\">\n",
       "  <thead>\n",
       "    <tr style=\"text-align: right;\">\n",
       "      <th></th>\n",
       "      <th>peak pos [1/cm]</th>\n",
       "      <th>peak_heights</th>\n",
       "      <th>prominences</th>\n",
       "      <th>left_bases</th>\n",
       "      <th>right_bases</th>\n",
       "    </tr>\n",
       "  </thead>\n",
       "  <tbody>\n",
       "    <tr>\n",
       "      <th>0</th>\n",
       "      <td>124.789062</td>\n",
       "      <td>0.176840</td>\n",
       "      <td>0.079785</td>\n",
       "      <td>102.769531</td>\n",
       "      <td>328.875000</td>\n",
       "    </tr>\n",
       "    <tr>\n",
       "      <th>1</th>\n",
       "      <td>631.638672</td>\n",
       "      <td>0.160527</td>\n",
       "      <td>0.155890</td>\n",
       "      <td>328.875000</td>\n",
       "      <td>754.384766</td>\n",
       "    </tr>\n",
       "    <tr>\n",
       "      <th>2</th>\n",
       "      <td>859.189453</td>\n",
       "      <td>0.236889</td>\n",
       "      <td>0.232797</td>\n",
       "      <td>328.875000</td>\n",
       "      <td>1521.193359</td>\n",
       "    </tr>\n",
       "    <tr>\n",
       "      <th>3</th>\n",
       "      <td>1095.613281</td>\n",
       "      <td>0.132103</td>\n",
       "      <td>0.128882</td>\n",
       "      <td>952.021484</td>\n",
       "      <td>1226.312500</td>\n",
       "    </tr>\n",
       "    <tr>\n",
       "      <th>4</th>\n",
       "      <td>1290.794922</td>\n",
       "      <td>0.235874</td>\n",
       "      <td>0.232919</td>\n",
       "      <td>952.021484</td>\n",
       "      <td>1521.193359</td>\n",
       "    </tr>\n",
       "    <tr>\n",
       "      <th>5</th>\n",
       "      <td>1615.630859</td>\n",
       "      <td>1.000000</td>\n",
       "      <td>0.997621</td>\n",
       "      <td>1521.193359</td>\n",
       "      <td>2857.531250</td>\n",
       "    </tr>\n",
       "    <tr>\n",
       "      <th>6</th>\n",
       "      <td>1727.773438</td>\n",
       "      <td>0.652395</td>\n",
       "      <td>0.649207</td>\n",
       "      <td>1664.765625</td>\n",
       "      <td>2857.531250</td>\n",
       "    </tr>\n",
       "    <tr>\n",
       "      <th>7</th>\n",
       "      <td>2966.837891</td>\n",
       "      <td>0.183074</td>\n",
       "      <td>0.174641</td>\n",
       "      <td>2857.531250</td>\n",
       "      <td>3046.316406</td>\n",
       "    </tr>\n",
       "    <tr>\n",
       "      <th>8</th>\n",
       "      <td>3083.742188</td>\n",
       "      <td>0.383961</td>\n",
       "      <td>0.383031</td>\n",
       "      <td>2857.531250</td>\n",
       "      <td>3194.595703</td>\n",
       "    </tr>\n",
       "  </tbody>\n",
       "</table>\n",
       "</div>"
      ],
      "text/plain": [
       "   peak pos [1/cm]  peak_heights  prominences   left_bases  right_bases\n",
       "0       124.789062      0.176840     0.079785   102.769531   328.875000\n",
       "1       631.638672      0.160527     0.155890   328.875000   754.384766\n",
       "2       859.189453      0.236889     0.232797   328.875000  1521.193359\n",
       "3      1095.613281      0.132103     0.128882   952.021484  1226.312500\n",
       "4      1290.794922      0.235874     0.232919   952.021484  1521.193359\n",
       "5      1615.630859      1.000000     0.997621  1521.193359  2857.531250\n",
       "6      1727.773438      0.652395     0.649207  1664.765625  2857.531250\n",
       "7      2966.837891      0.183074     0.174641  2857.531250  3046.316406\n",
       "8      3083.742188      0.383961     0.383031  2857.531250  3194.595703"
      ]
     },
     "execution_count": 23,
     "metadata": {},
     "output_type": "execute_result"
    }
   ],
   "source": [
    "C.bands"
   ]
  },
  {
   "cell_type": "markdown",
   "metadata": {},
   "source": [
    "We can list all current attributes of our chada instance C"
   ]
  },
  {
   "cell_type": "code",
   "execution_count": 24,
   "metadata": {
    "scrolled": false
   },
   "outputs": [
    {
     "data": {
      "text/plain": [
       "['__class__',\n",
       " '__delattr__',\n",
       " '__dict__',\n",
       " '__dir__',\n",
       " '__doc__',\n",
       " '__eq__',\n",
       " '__format__',\n",
       " '__ge__',\n",
       " '__getattribute__',\n",
       " '__gt__',\n",
       " '__hash__',\n",
       " '__init__',\n",
       " '__init_subclass__',\n",
       " '__le__',\n",
       " '__lt__',\n",
       " '__module__',\n",
       " '__ne__',\n",
       " '__new__',\n",
       " '__reduce__',\n",
       " '__reduce_ex__',\n",
       " '__repr__',\n",
       " '__setattr__',\n",
       " '__sizeof__',\n",
       " '__str__',\n",
       " '__subclasshook__',\n",
       " '__weakref__',\n",
       " 'background_model',\n",
       " 'bands',\n",
       " 'base',\n",
       " 'binary_data',\n",
       " 'data',\n",
       " 'filename',\n",
       " 'meta',\n",
       " 'metadata',\n",
       " 'peaks',\n",
       " 'plot',\n",
       " 'readers',\n",
       " 'save']"
      ]
     },
     "execution_count": 24,
     "metadata": {},
     "output_type": "execute_result"
    }
   ],
   "source": [
    "dir(C)"
   ]
  },
  {
   "cell_type": "markdown",
   "metadata": {},
   "source": [
    "#### We can now save the CHADA file. It contains the native data file, metadata, plus all results so far."
   ]
  },
  {
   "cell_type": "code",
   "execution_count": 31,
   "metadata": {},
   "outputs": [],
   "source": [
    "C.save('output/CHADA_testfile')"
   ]
  },
  {
   "cell_type": "markdown",
   "metadata": {},
   "source": [
    "Let's delete the original CHADA instance C and check that it's gone."
   ]
  },
  {
   "cell_type": "code",
   "execution_count": 32,
   "metadata": {},
   "outputs": [],
   "source": [
    "del C"
   ]
  },
  {
   "cell_type": "code",
   "execution_count": 33,
   "metadata": {},
   "outputs": [
    {
     "ename": "NameError",
     "evalue": "name 'C' is not defined",
     "output_type": "error",
     "traceback": [
      "\u001b[1;31m---------------------------------------------------------------------------\u001b[0m",
      "\u001b[1;31mNameError\u001b[0m                                 Traceback (most recent call last)",
      "\u001b[1;32m<ipython-input-33-6fa8c5733662>\u001b[0m in \u001b[0;36m<module>\u001b[1;34m\u001b[0m\n\u001b[1;32m----> 1\u001b[1;33m \u001b[0mC\u001b[0m\u001b[1;33m\u001b[0m\u001b[1;33m\u001b[0m\u001b[0m\n\u001b[0m",
      "\u001b[1;31mNameError\u001b[0m: name 'C' is not defined"
     ]
    }
   ],
   "source": [
    "C"
   ]
  },
  {
   "cell_type": "markdown",
   "metadata": {},
   "source": [
    "#### Now load the CHADA file again from disk."
   ]
  },
  {
   "cell_type": "code",
   "execution_count": 35,
   "metadata": {},
   "outputs": [],
   "source": [
    "from chada import load"
   ]
  },
  {
   "cell_type": "code",
   "execution_count": 36,
   "metadata": {},
   "outputs": [],
   "source": [
    "D = load('output/CHADA_testfile.cha')"
   ]
  },
  {
   "cell_type": "markdown",
   "metadata": {},
   "source": [
    "Voilá, it's all there."
   ]
  },
  {
   "cell_type": "code",
   "execution_count": 37,
   "metadata": {},
   "outputs": [
    {
     "data": {
      "image/png": "[encoded data removed]",
      "text/plain": [
       "<Figure size 576x288 with 1 Axes>"
      ]
     },
     "metadata": {
      "needs_background": "light"
     },
     "output_type": "display_data"
    }
   ],
   "source": [
    "D.plot()"
   ]
  },
  {
   "cell_type": "markdown",
   "metadata": {},
   "source": [
    "The CHADA file is not much larger than the native .wdf file (CHADA has the background model on top):"
   ]
  },
  {
   "cell_type": "code",
   "execution_count": 38,
   "metadata": {},
   "outputs": [],
   "source": [
    "import os"
   ]
  },
  {
   "cell_type": "code",
   "execution_count": 39,
   "metadata": {},
   "outputs": [
    {
     "data": {
      "text/plain": [
       "112102"
      ]
     },
     "execution_count": 39,
     "metadata": {},
     "output_type": "execute_result"
    }
   ],
   "source": [
    "os.stat(file).st_size"
   ]
  },
  {
   "cell_type": "code",
   "execution_count": 40,
   "metadata": {},
   "outputs": [
    {
     "data": {
      "text/plain": [
       "139658"
      ]
     },
     "execution_count": 40,
     "metadata": {},
     "output_type": "execute_result"
    }
   ],
   "source": [
    "os.stat('output/CHADA_testfile.cha').st_size"
   ]
  },
  {
   "cell_type": "code",
   "execution_count": null,
   "metadata": {},
   "outputs": [],
   "source": []
  }
 ],
 "metadata": {
  "kernelspec": {
   "display_name": "Python 3",
   "language": "python",
   "name": "python3"
  },
  "language_info": {
   "codemirror_mode": {
    "name": "ipython",
    "version": 3
   },
   "file_extension": ".py",
   "mimetype": "text/x-python",
   "name": "python",
   "nbconvert_exporter": "python",
   "pygments_lexer": "ipython3",
   "version": "3.8.8"
  }
 },
 "nbformat": 4,
 "nbformat_minor": 4
}
