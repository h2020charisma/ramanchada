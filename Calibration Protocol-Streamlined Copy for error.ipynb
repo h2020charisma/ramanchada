{
 "cells": [
  {
   "cell_type": "code",
   "execution_count": null,
   "id": "7ba027cc",
   "metadata": {},
   "outputs": [],
   "source": [
    "# Load required packages\n",
    "from ramanchada.classes import RamanChada, SpectrumGroup\n",
    "import pandas as pd\n",
    "import numpy as np"
   ]
  },
  {
   "cell_type": "code",
   "execution_count": null,
   "id": "1dee7e82",
   "metadata": {},
   "outputs": [],
   "source": [
    "# Load required files\n",
    "Path = r'C:\\Users\\James Thomson\\OneDrive - ELoDiz Ltd\\Documents\\- CHARISMA -\\Calibration protocol\\Programming test data'\n",
    "Path = r'D:\\nina\\src\\charisma-raman-spectrum-harmonization\\test\\calibration'\n",
    "Neon_file = r'\\NEON_GlacX785_BWTek_Probe_P0_850msx5_raw.csv'\n",
    "Silicon_file = r'\\SON12_GlacX785_BWTek_Probe_P100_55sx3.txt'\n",
    "Calcite_file = r'\\sCAL12_GlacX785_BWTek_Probe_P100_25sx5.txt'\n",
    "Polystyrene_file = r'\\PST12_GlacX785_BWTek_Probe_P100_65sx3-final one.txt'"
   ]
  },
  {
   "cell_type": "code",
   "execution_count": null,
   "id": "eb748ea3",
   "metadata": {},
   "outputs": [],
   "source": [
    "# Turn files to .cha\n",
    "Neon = RamanChada(Path+Neon_file)\n",
    "Silicon = RamanChada(Path+Silicon_file)\n",
    "Calcite = RamanChada(Path+Calcite_file)\n",
    "Polystyrene = RamanChada(Path+Polystyrene_file)"
   ]
  },
  {
   "cell_type": "code",
   "execution_count": null,
   "id": "678b22a7",
   "metadata": {},
   "outputs": [],
   "source": [
    "# Set neon spectrum to pixel numbers\n",
    "Neon.reset_x()"
   ]
  },
  {
   "cell_type": "code",
   "execution_count": null,
   "id": "5e10b3c4",
   "metadata": {},
   "outputs": [],
   "source": []
  },
  {
   "cell_type": "code",
   "execution_count": null,
   "id": "b3ee87d3",
   "metadata": {},
   "outputs": [],
   "source": []
  },
  {
   "cell_type": "code",
   "execution_count": null,
   "id": "94c58f4f",
   "metadata": {},
   "outputs": [],
   "source": [
    "# Find peak positions of neon peaks\n",
    "Neon.peaks(fitmethod='par', interval_width=0.5, show=True, prominence=.002, sort_by='position',smooth=True)\n",
    "Neon.bands"
   ]
  },
  {
   "cell_type": "code",
   "execution_count": null,
   "id": "1701f297",
   "metadata": {},
   "outputs": [],
   "source": [
    "# Make pixel-wavenumber calibration\n",
    "neon_x_axisWN = Neon.make_x_axis({\n",
    "    2: 10346.162,\n",
    "    8: 10668.590,\n",
    "    16: 10930.551,\n",
    "    18: 11211.391,\n",
    "    23: 11388.717,\n",
    "    29: 11581.245,\n",
    "    34: 11771.132,\n",
    "    40: 11936.579,\n",
    "    43: 12047.728,\n",
    "    45: 12290.433,\n",
    "    48: 12589.416}, x_unit='wavenumber [1/cm]', column='par fitted position')\n",
    "Neon.assign_x(neon_x_axisWN)"
   ]
  },
  {
   "cell_type": "code",
   "execution_count": null,
   "id": "cb8cd20b",
   "metadata": {},
   "outputs": [],
   "source": [
    "print(len(Neon.y))\n",
    "Neon.plot()"
   ]
  },
  {
   "cell_type": "code",
   "execution_count": null,
   "id": "8a05015e",
   "metadata": {},
   "outputs": [],
   "source": [
    "Neon.x"
   ]
  },
  {
   "cell_type": "code",
   "execution_count": null,
   "id": "59d9cee8",
   "metadata": {},
   "outputs": [],
   "source": [
    "Neon.peaks(sort_by='position',fit=False,smooth=False)\n",
    "\n"
   ]
  },
  {
   "cell_type": "code",
   "execution_count": null,
   "id": "c4a9209f",
   "metadata": {},
   "outputs": [],
   "source": [
    "Neon.bands"
   ]
  },
  {
   "cell_type": "code",
   "execution_count": null,
   "id": "68f8d2d7",
   "metadata": {},
   "outputs": [],
   "source": [
    "len(Neon.x)"
   ]
  },
  {
   "cell_type": "code",
   "execution_count": null,
   "id": "a352295f",
   "metadata": {},
   "outputs": [],
   "source": [
    "Neon.peaks(fitmethod='par', interval_width=2.2, show=True, prominence=.002, sort_by='position')\n",
    "Neon.bands"
   ]
  }
 ],
 "metadata": {
  "kernelspec": {
   "display_name": "Python 3 (ipykernel)",
   "language": "python",
   "name": "python3"
  },
  "language_info": {
   "codemirror_mode": {
    "name": "ipython",
    "version": 3
   },
   "file_extension": ".py",
   "mimetype": "text/x-python",
   "name": "python",
   "nbconvert_exporter": "python",
   "pygments_lexer": "ipython3",
   "version": "3.9.10"
  }
 },
 "nbformat": 4,
 "nbformat_minor": 5
}
