{
 "cells": [
  {
   "cell_type": "code",
   "execution_count": 1,
   "id": "7ba027cc",
   "metadata": {},
   "outputs": [],
   "source": [
    "# Load required packages\n",
    "from ramanchada.classes import RamanChada, SpectrumGroup\n",
    "import pandas as pd\n",
    "import numpy as np"
   ]
  },
  {
   "cell_type": "code",
   "execution_count": 2,
   "id": "1dee7e82",
   "metadata": {},
   "outputs": [],
   "source": [
    "# Load required files\n",
    "Path = r'C:\\Users\\James Thomson\\OneDrive - ELoDiz Ltd\\Documents\\- CHARISMA -\\Calibration protocol\\Programming test data'\n",
    "Path = r'D:\\nina\\src\\charisma-raman-spectrum-harmonization\\test\\calibration'\n",
    "Neon_file = r'\\NEON_GlacX785_BWTek_Probe_P0_850msx5_raw.csv'\n",
    "Silicon_file = r'\\SON12_GlacX785_BWTek_Probe_P100_55sx3.txt'\n",
    "Calcite_file = r'\\sCAL12_GlacX785_BWTek_Probe_P100_25sx5.txt'\n",
    "Polystyrene_file = r'\\PST12_GlacX785_BWTek_Probe_P100_65sx3-final one.txt'"
   ]
  },
  {
   "cell_type": "code",
   "execution_count": 3,
   "id": "eb748ea3",
   "metadata": {},
   "outputs": [
    {
     "name": "stdout",
     "output_type": "stream",
     "text": [
      "Importing 1857 data lines starting from line 1 in NEON_GlacX785_BWTek_Probe_P0_850msx5_raw.csv.\n",
      "Importing 0 metadata lines from NEON_GlacX785_BWTek_Probe_P0_850msx5_raw.csv.\n",
      "\n"
     ]
    },
    {
     "name": "stderr",
     "output_type": "stream",
     "text": [
      "d:\\nina\\src\\charisma-raman-spectrum-harmonization-master\\ramanchada\\src\\ramanchada\\file_io\\txt_format_readers.py:70: RuntimeWarning: invalid value encountered in true_divide\n",
      "  score = np.nan_to_num(data.std(0)/data.mean(0), nan=0)\n"
     ]
    },
    {
     "name": "stdout",
     "output_type": "stream",
     "text": [
      "Importing 2048 data lines starting from line 89 in SON12_GlacX785_BWTek_Probe_P100_55sx3.txt.\n",
      "Found more than 2 data columns in SON12_GlacX785_BWTek_Probe_P100_55sx3.txt.\n",
      "X data: assigning column labelled 'raman shift'.\n",
      "Y data: assigning column labelled 'dark subtracted #1'.\n",
      "Importing 88 metadata lines from SON12_GlacX785_BWTek_Probe_P100_55sx3.txt.\n",
      "\n",
      "Importing 2048 data lines starting from line 89 in sCAL12_GlacX785_BWTek_Probe_P100_25sx5.txt.\n",
      "Found more than 2 data columns in sCAL12_GlacX785_BWTek_Probe_P100_25sx5.txt.\n",
      "X data: assigning column labelled 'raman shift'.\n",
      "Y data: assigning column labelled 'dark subtracted #1'.\n",
      "Importing 88 metadata lines from sCAL12_GlacX785_BWTek_Probe_P100_25sx5.txt.\n",
      "\n",
      "Importing 2048 data lines starting from line 89 in PST12_GlacX785_BWTek_Probe_P100_65sx3-final one.txt.\n",
      "Found more than 2 data columns in PST12_GlacX785_BWTek_Probe_P100_65sx3-final one.txt.\n",
      "X data: assigning column labelled 'raman shift'.\n",
      "Y data: assigning column labelled 'dark subtracted #1'.\n",
      "Importing 88 metadata lines from PST12_GlacX785_BWTek_Probe_P100_65sx3-final one.txt.\n",
      "\n"
     ]
    }
   ],
   "source": [
    "# Turn files to .cha\n",
    "Neon = RamanChada(Path+Neon_file)\n",
    "Silicon = RamanChada(Path+Silicon_file)\n",
    "Calcite = RamanChada(Path+Calcite_file)\n",
    "Polystyrene = RamanChada(Path+Polystyrene_file)"
   ]
  },
  {
   "cell_type": "code",
   "execution_count": 4,
   "id": "678b22a7",
   "metadata": {},
   "outputs": [],
   "source": [
    "# Set neon spectrum to pixel numbers\n",
    "Neon.reset_x()"
   ]
  },
  {
   "cell_type": "code",
   "execution_count": null,
   "id": "5e10b3c4",
   "metadata": {},
   "outputs": [],
   "source": []
  },
  {
   "cell_type": "code",
   "execution_count": null,
   "id": "b3ee87d3",
   "metadata": {},
   "outputs": [],
   "source": []
  },
  {
   "cell_type": "code",
   "execution_count": 5,
   "id": "94c58f4f",
   "metadata": {},
   "outputs": [
    {
     "ename": "ValueError",
     "evalue": "If mode is 'interp', window_length must be less than or equal to the size of x.",
     "output_type": "error",
     "traceback": [
      "\u001b[1;31m---------------------------------------------------------------------------\u001b[0m",
      "\u001b[1;31mValueError\u001b[0m                                Traceback (most recent call last)",
      "\u001b[1;32m~\\AppData\\Local\\Temp/ipykernel_14220/3344667054.py\u001b[0m in \u001b[0;36m<module>\u001b[1;34m\u001b[0m\n\u001b[0;32m      1\u001b[0m \u001b[1;31m# Find peak positions of neon peaks\u001b[0m\u001b[1;33m\u001b[0m\u001b[1;33m\u001b[0m\u001b[0m\n\u001b[1;32m----> 2\u001b[1;33m \u001b[0mNeon\u001b[0m\u001b[1;33m.\u001b[0m\u001b[0mpeaks\u001b[0m\u001b[1;33m(\u001b[0m\u001b[0mfitmethod\u001b[0m\u001b[1;33m=\u001b[0m\u001b[1;34m'par'\u001b[0m\u001b[1;33m,\u001b[0m \u001b[0minterval_width\u001b[0m\u001b[1;33m=\u001b[0m\u001b[1;36m0.5\u001b[0m\u001b[1;33m,\u001b[0m \u001b[0mshow\u001b[0m\u001b[1;33m=\u001b[0m\u001b[1;32mTrue\u001b[0m\u001b[1;33m,\u001b[0m \u001b[0mprominence\u001b[0m\u001b[1;33m=\u001b[0m\u001b[1;36m.002\u001b[0m\u001b[1;33m,\u001b[0m \u001b[0msort_by\u001b[0m\u001b[1;33m=\u001b[0m\u001b[1;34m'position'\u001b[0m\u001b[1;33m)\u001b[0m\u001b[1;33m\u001b[0m\u001b[1;33m\u001b[0m\u001b[0m\n\u001b[0m\u001b[0;32m      3\u001b[0m \u001b[0mNeon\u001b[0m\u001b[1;33m.\u001b[0m\u001b[0mbands\u001b[0m\u001b[1;33m\u001b[0m\u001b[1;33m\u001b[0m\u001b[0m\n",
      "\u001b[1;32md:\\nina\\src\\charisma-raman-spectrum-harmonization-master\\ramanchada\\src\\ramanchada\\classes.py\u001b[0m in \u001b[0;36mpeaks\u001b[1;34m(self, prominence, x_min, x_max, cwt, fit, fitmethod, interval_width, cwt_width, sort_by, show)\u001b[0m\n\u001b[0;32m    289\u001b[0m             \u001b[0mself\u001b[0m\u001b[1;33m.\u001b[0m\u001b[0mbands\u001b[0m \u001b[1;33m=\u001b[0m \u001b[0mfind_spectrum_peaks_cwt\u001b[0m\u001b[1;33m(\u001b[0m\u001b[0mx\u001b[0m\u001b[1;33m,\u001b[0m \u001b[0my\u001b[0m\u001b[1;33m,\u001b[0m \u001b[0mwidth\u001b[0m\u001b[1;33m=\u001b[0m\u001b[0mcwt_width\u001b[0m\u001b[1;33m,\u001b[0m \u001b[0msort_by\u001b[0m\u001b[1;33m=\u001b[0m\u001b[1;34m'intensity'\u001b[0m\u001b[1;33m)\u001b[0m\u001b[1;33m\u001b[0m\u001b[1;33m\u001b[0m\u001b[0m\n\u001b[0;32m    290\u001b[0m         \u001b[1;32melse\u001b[0m\u001b[1;33m:\u001b[0m\u001b[1;33m\u001b[0m\u001b[1;33m\u001b[0m\u001b[0m\n\u001b[1;32m--> 291\u001b[1;33m             \u001b[0mself\u001b[0m\u001b[1;33m.\u001b[0m\u001b[0mbands\u001b[0m \u001b[1;33m=\u001b[0m \u001b[0mfind_spectrum_peaks\u001b[0m\u001b[1;33m(\u001b[0m\u001b[0mx\u001b[0m\u001b[1;33m,\u001b[0m \u001b[0my\u001b[0m\u001b[1;33m,\u001b[0m \u001b[0mprominence\u001b[0m\u001b[1;33m=\u001b[0m\u001b[0mprominence\u001b[0m\u001b[1;33m,\u001b[0m \u001b[0msort_by\u001b[0m\u001b[1;33m=\u001b[0m\u001b[0msort_by\u001b[0m\u001b[1;33m)\u001b[0m\u001b[1;33m\u001b[0m\u001b[1;33m\u001b[0m\u001b[0m\n\u001b[0m\u001b[0;32m    292\u001b[0m         \u001b[1;32mif\u001b[0m \u001b[0mfit\u001b[0m\u001b[1;33m:\u001b[0m\u001b[1;33m\u001b[0m\u001b[1;33m\u001b[0m\u001b[0m\n\u001b[0;32m    293\u001b[0m             \u001b[0mpositions\u001b[0m\u001b[1;33m,\u001b[0m \u001b[0mwidths\u001b[0m\u001b[1;33m,\u001b[0m \u001b[0mareas\u001b[0m\u001b[1;33m,\u001b[0m \u001b[0mpositions_error\u001b[0m\u001b[1;33m,\u001b[0m \u001b[0mwidths_error\u001b[0m\u001b[1;33m,\u001b[0m \u001b[0mareas_error\u001b[0m \u001b[1;33m=\u001b[0m\u001b[0;31m \u001b[0m\u001b[0;31m\\\u001b[0m\u001b[1;33m\u001b[0m\u001b[1;33m\u001b[0m\u001b[0m\n",
      "\u001b[1;32md:\\nina\\src\\charisma-raman-spectrum-harmonization-master\\ramanchada\\src\\ramanchada\\analysis\\peaks.py\u001b[0m in \u001b[0;36mfind_spectrum_peaks\u001b[1;34m(x, y, prominence, sg, sort_by)\u001b[0m\n\u001b[0;32m     24\u001b[0m     \u001b[1;31m#x, y = l(x), l(y)\u001b[0m\u001b[1;33m\u001b[0m\u001b[1;33m\u001b[0m\u001b[0m\n\u001b[0;32m     25\u001b[0m     \u001b[1;31m# Filter + minmax normalization are important!\u001b[0m\u001b[1;33m\u001b[0m\u001b[1;33m\u001b[0m\u001b[0m\n\u001b[1;32m---> 26\u001b[1;33m     \u001b[0ms\u001b[0m \u001b[1;33m=\u001b[0m \u001b[0msavgol_filter\u001b[0m\u001b[1;33m(\u001b[0m\u001b[0my\u001b[0m\u001b[1;33m,\u001b[0m \u001b[0msg\u001b[0m\u001b[1;33m,\u001b[0m \u001b[1;36m2\u001b[0m\u001b[1;33m)\u001b[0m\u001b[1;33m\u001b[0m\u001b[1;33m\u001b[0m\u001b[0m\n\u001b[0m\u001b[0;32m     27\u001b[0m     \u001b[0ms\u001b[0m \u001b[1;33m-=\u001b[0m \u001b[0ms\u001b[0m\u001b[1;33m.\u001b[0m\u001b[0mmin\u001b[0m\u001b[1;33m(\u001b[0m\u001b[1;33m)\u001b[0m\u001b[1;33m\u001b[0m\u001b[1;33m\u001b[0m\u001b[0m\n\u001b[0;32m     28\u001b[0m     \u001b[0ms\u001b[0m \u001b[1;33m/=\u001b[0m \u001b[0ms\u001b[0m\u001b[1;33m.\u001b[0m\u001b[0mmax\u001b[0m\u001b[1;33m(\u001b[0m\u001b[1;33m)\u001b[0m\u001b[1;33m\u001b[0m\u001b[1;33m\u001b[0m\u001b[0m\n",
      "\u001b[1;32mD:\\nina\\CONDA\\envs\\ramanchada\\lib\\site-packages\\scipy\\signal\\_savitzky_golay.py\u001b[0m in \u001b[0;36msavgol_filter\u001b[1;34m(x, window_length, polyorder, deriv, delta, axis, mode, cval)\u001b[0m\n\u001b[0;32m    342\u001b[0m     \u001b[1;32mif\u001b[0m \u001b[0mmode\u001b[0m \u001b[1;33m==\u001b[0m \u001b[1;34m\"interp\"\u001b[0m\u001b[1;33m:\u001b[0m\u001b[1;33m\u001b[0m\u001b[1;33m\u001b[0m\u001b[0m\n\u001b[0;32m    343\u001b[0m         \u001b[1;32mif\u001b[0m \u001b[0mwindow_length\u001b[0m \u001b[1;33m>\u001b[0m \u001b[0mx\u001b[0m\u001b[1;33m.\u001b[0m\u001b[0msize\u001b[0m\u001b[1;33m:\u001b[0m\u001b[1;33m\u001b[0m\u001b[1;33m\u001b[0m\u001b[0m\n\u001b[1;32m--> 344\u001b[1;33m             raise ValueError(\"If mode is 'interp', window_length must be less \"\n\u001b[0m\u001b[0;32m    345\u001b[0m                              \"than or equal to the size of x.\")\n\u001b[0;32m    346\u001b[0m \u001b[1;33m\u001b[0m\u001b[0m\n",
      "\u001b[1;31mValueError\u001b[0m: If mode is 'interp', window_length must be less than or equal to the size of x."
     ]
    }
   ],
   "source": [
    "# Find peak positions of neon peaks\n",
    "Neon.peaks(fitmethod='par', interval_width=0.5, show=True, prominence=.002, sort_by='position')\n",
    "Neon.bands"
   ]
  },
  {
   "cell_type": "code",
   "execution_count": 6,
   "id": "1701f297",
   "metadata": {},
   "outputs": [],
   "source": [
    "# Make pixel-wavenumber calibration\n",
    "neon_x_axisWN = Neon.make_x_axis({\n",
    "    2: 10346.162,\n",
    "    8: 10668.590,\n",
    "    16: 10930.551,\n",
    "    18: 11211.391,\n",
    "    23: 11388.717,\n",
    "    29: 11581.245,\n",
    "    34: 11771.132,\n",
    "    40: 11936.579,\n",
    "    43: 12047.728,\n",
    "    45: 12290.433,\n",
    "    48: 12589.416}, x_unit='wavenumber [1/cm]', column='par fitted position')\n",
    "Neon.assign_x(neon_x_axisWN)"
   ]
  },
  {
   "cell_type": "code",
   "execution_count": 7,
   "id": "cb8cd20b",
   "metadata": {},
   "outputs": [
    {
     "name": "stdout",
     "output_type": "stream",
     "text": [
      "1856\n"
     ]
    },
    {
     "data": {
      "image/png": "[encoded data removed]",
      "text/plain": [
       "<Figure size 576x288 with 1 Axes>"
      ]
     },
     "metadata": {
      "needs_background": "light"
     },
     "output_type": "display_data"
    }
   ],
   "source": [
    "print(len(Neon.y))\n",
    "Neon.plot()"
   ]
  },
  {
   "cell_type": "code",
   "execution_count": 8,
   "id": "59d9cee8",
   "metadata": {},
   "outputs": [
    {
     "ename": "ValueError",
     "evalue": "If mode is 'interp', window_length must be less than or equal to the size of x.",
     "output_type": "error",
     "traceback": [
      "\u001b[1;31m---------------------------------------------------------------------------\u001b[0m",
      "\u001b[1;31mValueError\u001b[0m                                Traceback (most recent call last)",
      "\u001b[1;32m~\\AppData\\Local\\Temp/ipykernel_8668/2213463035.py\u001b[0m in \u001b[0;36m<module>\u001b[1;34m\u001b[0m\n\u001b[1;32m----> 1\u001b[1;33m \u001b[0mNeon\u001b[0m\u001b[1;33m.\u001b[0m\u001b[0mpeaks\u001b[0m\u001b[1;33m(\u001b[0m\u001b[0msort_by\u001b[0m\u001b[1;33m=\u001b[0m\u001b[1;34m'position'\u001b[0m\u001b[1;33m)\u001b[0m\u001b[1;33m\u001b[0m\u001b[1;33m\u001b[0m\u001b[0m\n\u001b[0m",
      "\u001b[1;32md:\\nina\\src\\charisma-raman-spectrum-harmonization-master\\ramanchada\\src\\ramanchada\\classes.py\u001b[0m in \u001b[0;36mpeaks\u001b[1;34m(self, prominence, x_min, x_max, cwt, fit, fitmethod, interval_width, cwt_width, sort_by, show)\u001b[0m\n\u001b[0;32m    289\u001b[0m             \u001b[0mself\u001b[0m\u001b[1;33m.\u001b[0m\u001b[0mbands\u001b[0m \u001b[1;33m=\u001b[0m \u001b[0mfind_spectrum_peaks_cwt\u001b[0m\u001b[1;33m(\u001b[0m\u001b[0mx\u001b[0m\u001b[1;33m,\u001b[0m \u001b[0my\u001b[0m\u001b[1;33m,\u001b[0m \u001b[0mwidth\u001b[0m\u001b[1;33m=\u001b[0m\u001b[0mcwt_width\u001b[0m\u001b[1;33m,\u001b[0m \u001b[0msort_by\u001b[0m\u001b[1;33m=\u001b[0m\u001b[1;34m'intensity'\u001b[0m\u001b[1;33m)\u001b[0m\u001b[1;33m\u001b[0m\u001b[1;33m\u001b[0m\u001b[0m\n\u001b[0;32m    290\u001b[0m         \u001b[1;32melse\u001b[0m\u001b[1;33m:\u001b[0m\u001b[1;33m\u001b[0m\u001b[1;33m\u001b[0m\u001b[0m\n\u001b[1;32m--> 291\u001b[1;33m             \u001b[0mself\u001b[0m\u001b[1;33m.\u001b[0m\u001b[0mbands\u001b[0m \u001b[1;33m=\u001b[0m \u001b[0mfind_spectrum_peaks\u001b[0m\u001b[1;33m(\u001b[0m\u001b[0mx\u001b[0m\u001b[1;33m,\u001b[0m \u001b[0my\u001b[0m\u001b[1;33m,\u001b[0m \u001b[0mprominence\u001b[0m\u001b[1;33m=\u001b[0m\u001b[0mprominence\u001b[0m\u001b[1;33m,\u001b[0m \u001b[0msort_by\u001b[0m\u001b[1;33m=\u001b[0m\u001b[0msort_by\u001b[0m\u001b[1;33m)\u001b[0m\u001b[1;33m\u001b[0m\u001b[1;33m\u001b[0m\u001b[0m\n\u001b[0m\u001b[0;32m    292\u001b[0m         \u001b[1;32mif\u001b[0m \u001b[0mfit\u001b[0m\u001b[1;33m:\u001b[0m\u001b[1;33m\u001b[0m\u001b[1;33m\u001b[0m\u001b[0m\n\u001b[0;32m    293\u001b[0m             \u001b[0mpositions\u001b[0m\u001b[1;33m,\u001b[0m \u001b[0mwidths\u001b[0m\u001b[1;33m,\u001b[0m \u001b[0mareas\u001b[0m\u001b[1;33m,\u001b[0m \u001b[0mpositions_error\u001b[0m\u001b[1;33m,\u001b[0m \u001b[0mwidths_error\u001b[0m\u001b[1;33m,\u001b[0m \u001b[0mareas_error\u001b[0m \u001b[1;33m=\u001b[0m\u001b[0;31m \u001b[0m\u001b[0;31m\\\u001b[0m\u001b[1;33m\u001b[0m\u001b[1;33m\u001b[0m\u001b[0m\n",
      "\u001b[1;32md:\\nina\\src\\charisma-raman-spectrum-harmonization-master\\ramanchada\\src\\ramanchada\\analysis\\peaks.py\u001b[0m in \u001b[0;36mfind_spectrum_peaks\u001b[1;34m(x, y, prominence, sg, sort_by)\u001b[0m\n\u001b[0;32m     24\u001b[0m     \u001b[1;31m#x, y = l(x), l(y)\u001b[0m\u001b[1;33m\u001b[0m\u001b[1;33m\u001b[0m\u001b[0m\n\u001b[0;32m     25\u001b[0m     \u001b[1;31m# Filter + minmax normalization are important!\u001b[0m\u001b[1;33m\u001b[0m\u001b[1;33m\u001b[0m\u001b[0m\n\u001b[1;32m---> 26\u001b[1;33m     \u001b[0ms\u001b[0m \u001b[1;33m=\u001b[0m \u001b[0msavgol_filter\u001b[0m\u001b[1;33m(\u001b[0m\u001b[0my\u001b[0m\u001b[1;33m,\u001b[0m \u001b[0msg\u001b[0m\u001b[1;33m,\u001b[0m \u001b[1;36m2\u001b[0m\u001b[1;33m)\u001b[0m\u001b[1;33m\u001b[0m\u001b[1;33m\u001b[0m\u001b[0m\n\u001b[0m\u001b[0;32m     27\u001b[0m     \u001b[0ms\u001b[0m \u001b[1;33m-=\u001b[0m \u001b[0ms\u001b[0m\u001b[1;33m.\u001b[0m\u001b[0mmin\u001b[0m\u001b[1;33m(\u001b[0m\u001b[1;33m)\u001b[0m\u001b[1;33m\u001b[0m\u001b[1;33m\u001b[0m\u001b[0m\n\u001b[0;32m     28\u001b[0m     \u001b[0ms\u001b[0m \u001b[1;33m/=\u001b[0m \u001b[0ms\u001b[0m\u001b[1;33m.\u001b[0m\u001b[0mmax\u001b[0m\u001b[1;33m(\u001b[0m\u001b[1;33m)\u001b[0m\u001b[1;33m\u001b[0m\u001b[1;33m\u001b[0m\u001b[0m\n",
      "\u001b[1;32mD:\\nina\\CONDA\\envs\\ramanchada\\lib\\site-packages\\scipy\\signal\\_savitzky_golay.py\u001b[0m in \u001b[0;36msavgol_filter\u001b[1;34m(x, window_length, polyorder, deriv, delta, axis, mode, cval)\u001b[0m\n\u001b[0;32m    342\u001b[0m     \u001b[1;32mif\u001b[0m \u001b[0mmode\u001b[0m \u001b[1;33m==\u001b[0m \u001b[1;34m\"interp\"\u001b[0m\u001b[1;33m:\u001b[0m\u001b[1;33m\u001b[0m\u001b[1;33m\u001b[0m\u001b[0m\n\u001b[0;32m    343\u001b[0m         \u001b[1;32mif\u001b[0m \u001b[0mwindow_length\u001b[0m \u001b[1;33m>\u001b[0m \u001b[0mx\u001b[0m\u001b[1;33m.\u001b[0m\u001b[0msize\u001b[0m\u001b[1;33m:\u001b[0m\u001b[1;33m\u001b[0m\u001b[1;33m\u001b[0m\u001b[0m\n\u001b[1;32m--> 344\u001b[1;33m             raise ValueError(\"If mode is 'interp', window_length must be less \"\n\u001b[0m\u001b[0;32m    345\u001b[0m                              \"than or equal to the size of x.\")\n\u001b[0;32m    346\u001b[0m \u001b[1;33m\u001b[0m\u001b[0m\n",
      "\u001b[1;31mValueError\u001b[0m: If mode is 'interp', window_length must be less than or equal to the size of x."
     ]
    }
   ],
   "source": [
    "Neon.peaks(sort_by='position')"
   ]
  },
  {
   "cell_type": "code",
   "execution_count": 11,
   "id": "c4a9209f",
   "metadata": {},
   "outputs": [
    {
     "data": {
      "text/plain": [
       "array([13320.78424792, 13316.49632179, 13312.21212352, ...,\n",
       "        9345.75254403,  9344.44031746,  9343.1275725 ])"
      ]
     },
     "execution_count": 11,
     "metadata": {},
     "output_type": "execute_result"
    }
   ],
   "source": [
    "Neon.x"
   ]
  },
  {
   "cell_type": "code",
   "execution_count": 19,
   "id": "e3ba3b8a",
   "metadata": {},
   "outputs": [
    {
     "name": "stdout",
     "output_type": "stream",
     "text": [
      "[1087.  1051.8 1038.8 ... 1086.6 1069.8 1043.4]\n",
      "[13320.78424792 13316.49632179 13312.21212352 ...  9345.75254403\n",
      "  9344.44031746  9343.1275725 ]\n",
      "[1087.  1051.8 1038.8 ... 1086.6 1069.8 1043.4]\n"
     ]
    }
   ],
   "source": [
    "def lims(x, x_min, x_max):\n",
    "    x_min = np.fmax(x_min, np.fmin(x[0], x[-1]))\n",
    "    x_max = np.fmin(x_max, np.fmax(x[0], x[-1]))\n",
    "    y_min, y_max = np.argmin(np.abs(x-x_max)),np.argmin(np.abs(x-x_min))\n",
    "    #print(np.abs(x-x_min))\n",
    "    #print(np.abs(x-x_max))\n",
    "    #print(y_min,y_max)\n",
    "    def l(Y):\n",
    "        return Y[...,y_min:y_max+1]\n",
    "    return l\n",
    "\n",
    "print(Neon.y)\n",
    "x_min=-1e9\n",
    "x_max=1e9,\n",
    "\n",
    "\n",
    "l = lims(Neon.x, x_min, x_max)\n",
    "print(l(Neon.x))\n",
    "print(l(Neon.y))\n"
   ]
  },
  {
   "cell_type": "code",
   "execution_count": null,
   "id": "ef736c97",
   "metadata": {},
   "outputs": [],
   "source": [
    "l = lims(self.x, x_min, x_max)\n",
    "x = l(self.x)\n",
    "y = l(self.y)"
   ]
  },
  {
   "cell_type": "code",
   "execution_count": 10,
   "id": "68f8d2d7",
   "metadata": {},
   "outputs": [
    {
     "data": {
      "text/plain": [
       "1856"
      ]
     },
     "execution_count": 10,
     "metadata": {},
     "output_type": "execute_result"
    }
   ],
   "source": [
    "len(Neon.x)"
   ]
  },
  {
   "cell_type": "code",
   "execution_count": null,
   "id": "a352295f",
   "metadata": {},
   "outputs": [],
   "source": [
    "Neon.peaks(fitmethod='par', interval_width=2.2, show=True, prominence=.002, sort_by='position')\n",
    "Neon.bands"
   ]
  }
 ],
 "metadata": {
  "kernelspec": {
   "display_name": "Python 3 (ipykernel)",
   "language": "python",
   "name": "python3"
  },
  "language_info": {
   "codemirror_mode": {
    "name": "ipython",
    "version": 3
   },
   "file_extension": ".py",
   "mimetype": "text/x-python",
   "name": "python",
   "nbconvert_exporter": "python",
   "pygments_lexer": "ipython3",
   "version": "3.9.10"
  }
 },
 "nbformat": 4,
 "nbformat_minor": 5
}
