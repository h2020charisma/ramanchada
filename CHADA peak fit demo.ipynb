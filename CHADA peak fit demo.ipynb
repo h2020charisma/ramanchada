{
 "cells": [
  {
   "cell_type": "markdown",
   "metadata": {},
   "source": [
    "# CHARISMA: Chada peak fit demo"
   ]
  },
  {
   "cell_type": "markdown",
   "metadata": {},
   "source": [
    "_Bastian Barton, Fraunhofer LBF for Horizon 2020 project CHARISMA (WP4) - May 2021_"
   ]
  },
  {
   "cell_type": "code",
   "execution_count": null,
   "metadata": {},
   "outputs": [],
   "source": [
    "from ramanchada import chada,chada_utilities,chada_io"
   ]
  },
  {
   "cell_type": "code",
   "execution_count": null,
   "metadata": {},
   "outputs": [],
   "source": [
    "#Set paths\n",
    "import os, os.path\n",
    "\n",
    "TEST_FILES = \"test\"\n"
   ]
  },
  {
   "cell_type": "markdown",
   "metadata": {},
   "source": [
    "Set file names for example spectrum & create a Chada"
   ]
  },
  {
   "cell_type": "code",
   "execution_count": null,
   "metadata": {},
   "outputs": [],
   "source": [
    "#source = r\"\\\\vm-stor-51\\alle\\Projekte Kunststoffe\\RD\\MA\\Öffentliche_Projekte\\2020-01-07_230007_H2020-CHARISMA_barton\\Python\\charisma-raman-spectrum-harmonization\\test_data\\200218-17.wdf\"\n",
    "#target = r\"\\\\vm-stor-51\\alle\\Projekte Kunststoffe\\RD\\MA\\Öffentliche_Projekte\\2020-01-07_230007_H2020-CHARISMA_barton\\Python\\charisma-raman-spectrum-harmonization\\test_data\\chada\\renishaw.cha\"\n",
    "\n",
    "source = os.path.join(TEST_FILES,\"200218-17.wdf\")\n",
    "target = os.path.join(TEST_FILES,\"renishaw.cha\")"
   ]
  },
  {
   "cell_type": "code",
   "execution_count": null,
   "metadata": {},
   "outputs": [],
   "source": [
    "chada_file = chada_io.create(source, target)"
   ]
  },
  {
   "cell_type": "markdown",
   "metadata": {},
   "source": [
    "Load CHADA archive into Chada object"
   ]
  },
  {
   "cell_type": "code",
   "execution_count": null,
   "metadata": {},
   "outputs": [],
   "source": [
    "C = chada.Chada(target)"
   ]
  },
  {
   "cell_type": "markdown",
   "metadata": {},
   "source": [
    "Show unprocessed data"
   ]
  },
  {
   "cell_type": "code",
   "execution_count": null,
   "metadata": {
    "scrolled": false
   },
   "outputs": [],
   "source": [
    "C.plot()"
   ]
  },
  {
   "cell_type": "markdown",
   "metadata": {},
   "source": [
    "**Do peak search in unprocessed data, fitting each peak with FFT method implemented after**\n",
    "\n",
    "_Hutsebaut, Didier, Peter Vandenabeele, and Luc Moens. \"Evaluation of an accurate calibration and spectral standardization procedure for Raman spectroscopy.\" Analyst 130.8 (2005): 1204-1214._\n",
    "\n",
    "- fit_plot: The fit is plotted for each peak\n",
    "- make_plot: The spectrum is shown with peaks marked"
   ]
  },
  {
   "cell_type": "code",
   "execution_count": null,
   "metadata": {
    "scrolled": false
   },
   "outputs": [],
   "source": [
    "C.peaks(make_plot=True, fit_plot=True)"
   ]
  },
  {
   "cell_type": "markdown",
   "metadata": {},
   "source": [
    "Again, with less output:"
   ]
  },
  {
   "cell_type": "code",
   "execution_count": null,
   "metadata": {},
   "outputs": [],
   "source": [
    "C.peaks()"
   ]
  },
  {
   "cell_type": "markdown",
   "metadata": {},
   "source": [
    "This info is in the attribute *.bands*, which is a Pandas *DataFrame*"
   ]
  },
  {
   "cell_type": "code",
   "execution_count": null,
   "metadata": {},
   "outputs": [],
   "source": [
    "C.bands"
   ]
  },
  {
   "cell_type": "markdown",
   "metadata": {},
   "source": [
    "Save this result for later comparison"
   ]
  },
  {
   "cell_type": "code",
   "execution_count": null,
   "metadata": {},
   "outputs": [],
   "source": [
    "B_raw = C.bands.copy()"
   ]
  },
  {
   "cell_type": "markdown",
   "metadata": {},
   "source": [
    "**Same exercise, now with baseline-corrected data**"
   ]
  },
  {
   "cell_type": "code",
   "execution_count": null,
   "metadata": {},
   "outputs": [],
   "source": [
    "C.fit_baseline(show=True)\n",
    "C.remove_baseline()"
   ]
  },
  {
   "cell_type": "code",
   "execution_count": null,
   "metadata": {
    "scrolled": false
   },
   "outputs": [],
   "source": [
    "C.plot()"
   ]
  },
  {
   "cell_type": "code",
   "execution_count": null,
   "metadata": {
    "scrolled": false
   },
   "outputs": [],
   "source": [
    "C.peaks(make_plot=True, fit_plot=True)\n",
    "C.bands"
   ]
  },
  {
   "cell_type": "markdown",
   "metadata": {},
   "source": [
    "The FWHM is indicated in the plot for each peak (zoom in by activating %matplotlib notebook)."
   ]
  },
  {
   "cell_type": "code",
   "execution_count": null,
   "metadata": {},
   "outputs": [],
   "source": [
    "%matplotlib notebook\n",
    "C.peaks(make_plot=True)"
   ]
  },
  {
   "cell_type": "code",
   "execution_count": null,
   "metadata": {
    "scrolled": false
   },
   "outputs": [],
   "source": [
    "%matplotlib inline"
   ]
  },
  {
   "cell_type": "markdown",
   "metadata": {},
   "source": [
    "Compare fitted positions with & without baseline correction"
   ]
  },
  {
   "cell_type": "code",
   "execution_count": null,
   "metadata": {},
   "outputs": [],
   "source": [
    "import numpy as np\n",
    "\n",
    "B_raw['compare'] = C.bands['fitted pos.']\n",
    "B_raw['diff. pos-fit'] = np.abs(B_raw['fitted pos.'] - B_raw['position'])\n",
    "B_raw['diff. raw-base'] = np.abs(B_raw['fitted pos.'] - B_raw['compare'])"
   ]
  },
  {
   "cell_type": "code",
   "execution_count": null,
   "metadata": {},
   "outputs": [],
   "source": [
    "B_raw"
   ]
  },
  {
   "cell_type": "markdown",
   "metadata": {},
   "source": [
    "For prominent peaks, the fit is robust even without prior baseline separation."
   ]
  },
  {
   "cell_type": "code",
   "execution_count": null,
   "metadata": {},
   "outputs": [],
   "source": []
  }
 ],
 "metadata": {
  "kernelspec": {
   "display_name": "Python 3",
   "language": "python",
   "name": "python3"
  },
  "language_info": {
   "codemirror_mode": {
    "name": "ipython",
    "version": 3
   },
   "file_extension": ".py",
   "mimetype": "text/x-python",
   "name": "python",
   "nbconvert_exporter": "python",
   "pygments_lexer": "ipython3",
   "version": "3.8.5"
  }
 },
 "nbformat": 4,
 "nbformat_minor": 4
}
