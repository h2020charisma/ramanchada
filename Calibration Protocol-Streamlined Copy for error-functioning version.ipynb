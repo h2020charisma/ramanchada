{
 "cells": [
  {
   "cell_type": "code",
   "execution_count": null,
   "id": "7ba027cc",
   "metadata": {},
   "outputs": [],
   "source": [
    "# Load required packages\n",
    "from ramanchada.classes import RamanChada, SpectrumGroup\n",
    "import pandas as pd\n",
    "import numpy as np"
   ]
  },
  {
   "cell_type": "code",
   "execution_count": null,
   "id": "1dee7e82",
   "metadata": {},
   "outputs": [],
   "source": [
    "# Load required files\n",
    "#Path = r'C:\\Users\\James Thomson\\OneDrive - ELoDiz Ltd\\Documents\\- CHARISMA -\\Calibration protocol\\Programming test data'\n",
    "Path = r'D:\\nina\\src\\charisma-raman-spectrum-harmonization\\test\\calibration'\n",
    "Neon_file = r'\\NEON_GlacX785_BWTek_Probe_P0_850msx5_raw.csv'\n",
    "Silicon_file = r'\\SON12_GlacX785_BWTek_Probe_P100_55sx3.txt'\n",
    "Calcite_file = r'\\sCAL12_GlacX785_BWTek_Probe_P100_25sx5.txt'\n",
    "Polystyrene_file = r'\\PST12_GlacX785_BWTek_Probe_P100_65sx3-final one.txt'"
   ]
  },
  {
   "cell_type": "code",
   "execution_count": null,
   "id": "eb748ea3",
   "metadata": {},
   "outputs": [],
   "source": [
    "# Turn files to .cha\n",
    "Neon = RamanChada(Path+Neon_file)\n",
    "Silicon = RamanChada(Path+Silicon_file)\n",
    "Calcite = RamanChada(Path+Calcite_file)\n",
    "Polystyrene = RamanChada(Path+Polystyrene_file)"
   ]
  },
  {
   "cell_type": "code",
   "execution_count": null,
   "id": "678b22a7",
   "metadata": {},
   "outputs": [],
   "source": [
    "# Set neon spectrum to pixel numbers\n",
    "Neon.reset_x()"
   ]
  },
  {
   "cell_type": "code",
   "execution_count": null,
   "id": "5e10b3c4",
   "metadata": {},
   "outputs": [],
   "source": []
  },
  {
   "cell_type": "code",
   "execution_count": null,
   "id": "b3ee87d3",
   "metadata": {},
   "outputs": [],
   "source": []
  },
  {
   "cell_type": "code",
   "execution_count": null,
   "id": "94c58f4f",
   "metadata": {},
   "outputs": [],
   "source": [
    "# Find peak positions of neon peaks\n",
    "Neon.peaks(fitmethod='par', interval_width=0.5, show=False, prominence=.002, sort_by='position')\n",
    "Neon.bands"
   ]
  },
  {
   "cell_type": "code",
   "execution_count": null,
   "id": "1701f297",
   "metadata": {},
   "outputs": [],
   "source": [
    "# Make pixel-wavelength calibration\n",
    "neon_x_axisWL = Neon.make_x_axis({\n",
    "    2: 966.542,\n",
    "    8: 937.331,\n",
    "    16: 914.867,\n",
    "    18: 891.95,\n",
    "    23: 878.062,\n",
    "    29: 863.465,\n",
    "    34: 849.536,\n",
    "    40: 837.761,\n",
    "    43: 830.032,\n",
    "    45: 813.641,\n",
    "    48: 794.318}, x_unit='wavelength [nm]', column='par fitted position', order=5)\n",
    "Neon.assign_x(neon_x_axisWL)"
   ]
  },
  {
   "cell_type": "code",
   "execution_count": null,
   "id": "cb8cd20b",
   "metadata": {},
   "outputs": [],
   "source": [
    "print(len(Neon.y))\n",
    "Neon.plot()"
   ]
  },
  {
   "cell_type": "code",
   "execution_count": null,
   "id": "59d9cee8",
   "metadata": {},
   "outputs": [],
   "source": [
    "# Not functioning. Seems to be running through a loop. Is also automatically fitting voigts\n",
    "Neon.peaks(prominence=.002, sort_by='position')\n",
    "Neon.bands"
   ]
  },
  {
   "cell_type": "code",
   "execution_count": null,
   "id": "a352295f",
   "metadata": {},
   "outputs": [],
   "source": [
    "Neon.peaks(fitmethod='par', interval_width=0.1, show=True, prominence=.002, sort_by='position')\n",
    "Neon.bands"
   ]
  },
  {
   "cell_type": "code",
   "execution_count": null,
   "id": "08c83b91",
   "metadata": {},
   "outputs": [],
   "source": []
  }
 ],
 "metadata": {
  "kernelspec": {
   "display_name": "Python 3 (ipykernel)",
   "language": "python",
   "name": "python3"
  },
  "language_info": {
   "codemirror_mode": {
    "name": "ipython",
    "version": 3
   },
   "file_extension": ".py",
   "mimetype": "text/x-python",
   "name": "python",
   "nbconvert_exporter": "python",
   "pygments_lexer": "ipython3",
   "version": "3.9.12"
  }
 },
 "nbformat": 4,
 "nbformat_minor": 5
}
