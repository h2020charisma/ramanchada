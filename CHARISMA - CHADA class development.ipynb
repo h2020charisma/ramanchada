{
 "cells": [
  {
   "cell_type": "markdown",
   "metadata": {},
   "source": [
    "# CHARISMA - CHADA class development"
   ]
  },
  {
   "cell_type": "markdown",
   "metadata": {},
   "source": [
    "## class chada"
   ]
  },
  {
   "cell_type": "markdown",
   "metadata": {},
   "source": [
    "### __init__"
   ]
  },
  {
   "cell_type": "code",
   "execution_count": 58,
   "metadata": {},
   "outputs": [],
   "source": [
    "from renishawWiRE import WDFReader\n",
    "from specio import specread\n",
    "import matplotlib.pyplot as plt\n",
    "import numpy as np\n",
    "import pandas as pd"
   ]
  },
  {
   "cell_type": "markdown",
   "metadata": {},
   "source": [
    "Define filename"
   ]
  },
  {
   "cell_type": "code",
   "execution_count": 177,
   "metadata": {},
   "outputs": [],
   "source": [
    "file = r\"Z:\\WP Space\\WP 4\\Spectrum database\\Data from CSIC Renishaw Perkin\\txt and wdf PET granza Renishaw Qontor\\200218-17.wdf\""
   ]
  },
  {
   "cell_type": "markdown",
   "metadata": {},
   "source": [
    "Choose reader via filename extension"
   ]
  },
  {
   "cell_type": "code",
   "execution_count": 178,
   "metadata": {},
   "outputs": [],
   "source": [
    "readers = {'.spc': [specread, \"print_info\"], '.wdf': WDFReader}"
   ]
  },
  {
   "cell_type": "code",
   "execution_count": 179,
   "metadata": {},
   "outputs": [],
   "source": [
    "ext = file[file.rfind(\".\"):]"
   ]
  },
  {
   "cell_type": "code",
   "execution_count": 201,
   "metadata": {},
   "outputs": [],
   "source": [
    "filename = file[file.rfind(\"\\\\\")+2:]"
   ]
  },
  {
   "cell_type": "code",
   "execution_count": 202,
   "metadata": {},
   "outputs": [
    {
     "data": {
      "text/plain": [
       "'00218-17.wdf'"
      ]
     },
     "execution_count": 202,
     "metadata": {},
     "output_type": "execute_result"
    }
   ],
   "source": [
    "filename"
   ]
  },
  {
   "cell_type": "code",
   "execution_count": 180,
   "metadata": {},
   "outputs": [],
   "source": [
    "reader = readers[ext]"
   ]
  },
  {
   "cell_type": "markdown",
   "metadata": {},
   "source": [
    "Read file"
   ]
  },
  {
   "cell_type": "code",
   "execution_count": 204,
   "metadata": {},
   "outputs": [],
   "source": [
    "s = reader(file)"
   ]
  },
  {
   "cell_type": "code",
   "execution_count": 205,
   "metadata": {},
   "outputs": [],
   "source": [
    "counts = s.spectra\n",
    "wavenumbers = s.xdata\n",
    "if np.mean(np.diff(wavenumbers)) < 0:\n",
    "    counts = np.flip(counts)\n",
    "    wavenumbers = np.flip(wavenumbers)"
   ]
  },
  {
   "cell_type": "code",
   "execution_count": 206,
   "metadata": {},
   "outputs": [
    {
     "data": {
      "text/plain": [
       "dict_keys(['file_obj', 'title', 'username', 'measurement_type', 'scan_type', 'laser_length', 'count', 'spectral_unit', 'xlist_type', 'xlist_unit', 'ylist_type', 'ylist_unit', 'point_per_spectrum', 'data_origin_count', 'capacity', 'application_name', 'application_version', 'xlist_length', 'ylist_length', 'accumulation_count', 'block_info', 'is_completed', 'debug', 'spectra', 'xdata', 'ydata', 'origin_list_header', 'xpos', 'ypos', 'zpos'])"
      ]
     },
     "execution_count": 206,
     "metadata": {},
     "output_type": "execute_result"
    }
   ],
   "source": [
    "s.__dict__.keys()"
   ]
  },
  {
   "cell_type": "markdown",
   "metadata": {},
   "source": [
    "#### Assign class variables from list\n",
    "\n",
    "name  = 'varname'\n",
    "value = 'something'\n",
    "\n",
    "setattr(self, name, value) #equivalent to: self.varname= 'something'\n",
    "\n",
    "print (self.varname)\n",
    "#will print 'something'"
   ]
  },
  {
   "cell_type": "code",
   "execution_count": 207,
   "metadata": {},
   "outputs": [],
   "source": [
    "meta = {\n",
    "\"native filename\": filename,\n",
    "\"native format\": ext,\n",
    "\"laser wavelength\": s.laser_length,\n",
    "\"no. of accumulations\": s.accumulation_count,\n",
    "\"spectral unit\": s.spectral_unit,\n",
    "\"OEM software name\": s.application_name,\n",
    "\"OEM software version\": s.application_version,\n",
    "\"minimum wavelength\": wavenumbers.min(),\n",
    "\"maximum wavelength\": wavenumbers.max(),\n",
    "\"no of channels\": len(counts),\n",
    "\"mean counts\": counts.mean(),\n",
    "\"standard deviation\": counts.std(),  \n",
    "}"
   ]
  },
  {
   "cell_type": "code",
   "execution_count": 208,
   "metadata": {},
   "outputs": [
    {
     "data": {
      "text/html": [
       "<div>\n",
       "<style scoped>\n",
       "    .dataframe tbody tr th:only-of-type {\n",
       "        vertical-align: middle;\n",
       "    }\n",
       "\n",
       "    .dataframe tbody tr th {\n",
       "        vertical-align: top;\n",
       "    }\n",
       "\n",
       "    .dataframe thead th {\n",
       "        text-align: right;\n",
       "    }\n",
       "</style>\n",
       "<table border=\"1\" class=\"dataframe\">\n",
       "  <thead>\n",
       "    <tr style=\"text-align: right;\">\n",
       "      <th></th>\n",
       "      <th>value</th>\n",
       "    </tr>\n",
       "  </thead>\n",
       "  <tbody>\n",
       "    <tr>\n",
       "      <th>native filename</th>\n",
       "      <td>00218-17.wdf</td>\n",
       "    </tr>\n",
       "    <tr>\n",
       "      <th>native format</th>\n",
       "      <td>.wdf</td>\n",
       "    </tr>\n",
       "    <tr>\n",
       "      <th>laser wavelength</th>\n",
       "      <td>514.501</td>\n",
       "    </tr>\n",
       "    <tr>\n",
       "      <th>no. of accumulations</th>\n",
       "      <td>3</td>\n",
       "    </tr>\n",
       "    <tr>\n",
       "      <th>spectral unit</th>\n",
       "      <td>counts</td>\n",
       "    </tr>\n",
       "    <tr>\n",
       "      <th>OEM software name</th>\n",
       "      <td>WiRE</td>\n",
       "    </tr>\n",
       "    <tr>\n",
       "      <th>OEM software version</th>\n",
       "      <td>[5, 2, 0, 9499]</td>\n",
       "    </tr>\n",
       "    <tr>\n",
       "      <th>minimum wavelength</th>\n",
       "      <td>102.77</td>\n",
       "    </tr>\n",
       "    <tr>\n",
       "      <th>maximum wavelength</th>\n",
       "      <td>3703.71</td>\n",
       "    </tr>\n",
       "    <tr>\n",
       "      <th>no of channels</th>\n",
       "      <td>3190</td>\n",
       "    </tr>\n",
       "    <tr>\n",
       "      <th>mean counts</th>\n",
       "      <td>62918.4</td>\n",
       "    </tr>\n",
       "    <tr>\n",
       "      <th>standard deviation</th>\n",
       "      <td>27122.4</td>\n",
       "    </tr>\n",
       "  </tbody>\n",
       "</table>\n",
       "</div>"
      ],
      "text/plain": [
       "                                value\n",
       "native filename          00218-17.wdf\n",
       "native format                    .wdf\n",
       "laser wavelength              514.501\n",
       "no. of accumulations                3\n",
       "spectral unit                  counts\n",
       "OEM software name                WiRE\n",
       "OEM software version  [5, 2, 0, 9499]\n",
       "minimum wavelength             102.77\n",
       "maximum wavelength            3703.71\n",
       "no of channels                   3190\n",
       "mean counts                   62918.4\n",
       "standard deviation            27122.4"
      ]
     },
     "execution_count": 208,
     "metadata": {},
     "output_type": "execute_result"
    }
   ],
   "source": [
    "pd.DataFrame.from_dict(meta, orient='index', columns=['value'])"
   ]
  },
  {
   "cell_type": "markdown",
   "metadata": {},
   "source": [
    "### chada.plot"
   ]
  },
  {
   "cell_type": "code",
   "execution_count": 196,
   "metadata": {},
   "outputs": [
    {
     "data": {
      "image/png": "[encoded data removed]",
      "text/plain": [
       "<Figure size 576x288 with 1 Axes>"
      ]
     },
     "metadata": {
      "needs_background": "light"
     },
     "output_type": "display_data"
    }
   ],
   "source": [
    "fig = plt.figure(figsize=[8,4])\n",
    "plt.plot(wavenumbers, counts, 'k-')\n",
    "plt.xlabel('Raman shift [1/cm]')\n",
    "plt.ylabel(meta[\"spectral unit\"])\n",
    "plt.grid(axis='x', which='both', linestyle=':')\n",
    "plt.yticks([])\n",
    "plt.show()"
   ]
  },
  {
   "cell_type": "markdown",
   "metadata": {},
   "source": [
    "chada.export"
   ]
  },
  {
   "cell_type": "markdown",
   "metadata": {},
   "source": [
    "    with open('some_file.pkl', \"wb\") as fp:\n",
    "        pickle.dump(fig, fp, protocol=4)"
   ]
  },
  {
   "cell_type": "code",
   "execution_count": 187,
   "metadata": {},
   "outputs": [],
   "source": [
    "fig.savefig(r\"C:\\Users\\barton\\Desktop\\chadafig_wdf.png\", dpi=100)"
   ]
  },
  {
   "cell_type": "markdown",
   "metadata": {},
   "source": [
    "chada.bands"
   ]
  },
  {
   "cell_type": "code",
   "execution_count": 188,
   "metadata": {},
   "outputs": [],
   "source": [
    "from scipy.signal import wiener, savgol_filter, find_peaks"
   ]
  },
  {
   "cell_type": "markdown",
   "metadata": {},
   "source": [
    "prominence is important"
   ]
  },
  {
   "cell_type": "code",
   "execution_count": 189,
   "metadata": {
    "scrolled": false
   },
   "outputs": [
    {
     "data": {
      "text/plain": [
       "(array([  15,  372,  540,  720,  873, 1137, 1231, 2383, 2504], dtype=int64),\n",
       " {'peak_heights': array([0.13884087, 0.15176563, 0.24281073, 0.19478539, 0.31354859,\n",
       "         1.        , 0.74962085, 0.58373719, 0.74561054]),\n",
       "  'prominences': array([0.06337517, 0.11965826, 0.17609609, 0.09061077, 0.17335685,\n",
       "         0.78528155, 0.50452778, 0.13705602, 0.31490085]),\n",
       "  'left_bases': array([   0,  145,  145,  586,  145,  145, 1170, 1278, 1278], dtype=int64),\n",
       "  'right_bases': array([ 145,  386,  586,  770,  918, 1170, 1278, 2465, 2825], dtype=int64)})"
      ]
     },
     "execution_count": 189,
     "metadata": {},
     "output_type": "execute_result"
    }
   ],
   "source": [
    "s = savgol_filter(counts, 3, 2)\n",
    "s -= s.min()\n",
    "s /= s.max()\n",
    "p = find_peaks(s,\n",
    "    height=.1,\n",
    "    threshold=None,\n",
    "    distance=2,\n",
    "    prominence=.05,\n",
    "    width=None,\n",
    "    wlen=None,\n",
    "    rel_height=0.1,\n",
    "    plateau_size=None)\n",
    "p"
   ]
  },
  {
   "cell_type": "code",
   "execution_count": 197,
   "metadata": {},
   "outputs": [
    {
     "data": {
      "image/png": "[encoded data removed]",
      "text/plain": [
       "<Figure size 576x288 with 1 Axes>"
      ]
     },
     "metadata": {
      "needs_background": "light"
     },
     "output_type": "display_data"
    }
   ],
   "source": [
    "fig, ax = plt.subplots(figsize=[8,4])\n",
    "plt.plot(wavenumbers, counts, 'k-')\n",
    "for pos in p[0]:\n",
    "    k_pos = wavenumbers[pos]\n",
    "    band_y = counts[pos]\n",
    "    ax.annotate(str(int(k_pos)), xy=(k_pos, band_y + counts.max()*.01),  xycoords='data',\n",
    "                xytext=(k_pos, band_y + counts.max()*.1), textcoords='data',\n",
    "                arrowprops=dict(facecolor='black', shrink=0.05, width=2,headwidth=5),\n",
    "                horizontalalignment='center', verticalalignment='bottom', size=10\n",
    "                )\n",
    "plt.ylim(-.05, counts.max()+ counts.max()*.2)\n",
    "plt.xlabel('Raman shift [1/cm]')\n",
    "plt.ylabel(meta[\"spectral unit\"])\n",
    "plt.grid(axis='x', which='both', linestyle=':')\n",
    "plt.yticks([])\n",
    "plt.show()"
   ]
  },
  {
   "cell_type": "code",
   "execution_count": 194,
   "metadata": {},
   "outputs": [],
   "source": [
    "P = pd.DataFrame(p[1])\n",
    "P[\"peak pos [1/cm]\"] = wavenumbers[p[0]]\n",
    "cols = P.columns.tolist()"
   ]
  },
  {
   "cell_type": "code",
   "execution_count": 195,
   "metadata": {},
   "outputs": [
    {
     "data": {
      "text/html": [
       "<div>\n",
       "<style scoped>\n",
       "    .dataframe tbody tr th:only-of-type {\n",
       "        vertical-align: middle;\n",
       "    }\n",
       "\n",
       "    .dataframe tbody tr th {\n",
       "        vertical-align: top;\n",
       "    }\n",
       "\n",
       "    .dataframe thead th {\n",
       "        text-align: right;\n",
       "    }\n",
       "</style>\n",
       "<table border=\"1\" class=\"dataframe\">\n",
       "  <thead>\n",
       "    <tr style=\"text-align: right;\">\n",
       "      <th></th>\n",
       "      <th>peak pos [1/cm]</th>\n",
       "      <th>peak_heights</th>\n",
       "      <th>prominences</th>\n",
       "      <th>left_bases</th>\n",
       "      <th>right_bases</th>\n",
       "    </tr>\n",
       "  </thead>\n",
       "  <tbody>\n",
       "    <tr>\n",
       "      <th>0</th>\n",
       "      <td>124.789062</td>\n",
       "      <td>0.138841</td>\n",
       "      <td>0.063375</td>\n",
       "      <td>102.769531</td>\n",
       "      <td>313.140625</td>\n",
       "    </tr>\n",
       "    <tr>\n",
       "      <th>1</th>\n",
       "      <td>631.638672</td>\n",
       "      <td>0.151766</td>\n",
       "      <td>0.119658</td>\n",
       "      <td>313.140625</td>\n",
       "      <td>650.863281</td>\n",
       "    </tr>\n",
       "    <tr>\n",
       "      <th>2</th>\n",
       "      <td>859.189453</td>\n",
       "      <td>0.242811</td>\n",
       "      <td>0.176096</td>\n",
       "      <td>313.140625</td>\n",
       "      <td>920.322266</td>\n",
       "    </tr>\n",
       "    <tr>\n",
       "      <th>3</th>\n",
       "      <td>1095.613281</td>\n",
       "      <td>0.194785</td>\n",
       "      <td>0.090611</td>\n",
       "      <td>920.322266</td>\n",
       "      <td>1159.972656</td>\n",
       "    </tr>\n",
       "    <tr>\n",
       "      <th>4</th>\n",
       "      <td>1290.794922</td>\n",
       "      <td>0.313549</td>\n",
       "      <td>0.173357</td>\n",
       "      <td>313.140625</td>\n",
       "      <td>1347.218750</td>\n",
       "    </tr>\n",
       "    <tr>\n",
       "      <th>5</th>\n",
       "      <td>1615.630859</td>\n",
       "      <td>1.000000</td>\n",
       "      <td>0.785282</td>\n",
       "      <td>313.140625</td>\n",
       "      <td>1655.207031</td>\n",
       "    </tr>\n",
       "    <tr>\n",
       "      <th>6</th>\n",
       "      <td>1727.773438</td>\n",
       "      <td>0.749621</td>\n",
       "      <td>0.504528</td>\n",
       "      <td>1655.207031</td>\n",
       "      <td>1783.171875</td>\n",
       "    </tr>\n",
       "    <tr>\n",
       "      <th>7</th>\n",
       "      <td>2966.837891</td>\n",
       "      <td>0.583737</td>\n",
       "      <td>0.137056</td>\n",
       "      <td>1783.171875</td>\n",
       "      <td>3046.316406</td>\n",
       "    </tr>\n",
       "    <tr>\n",
       "      <th>8</th>\n",
       "      <td>3083.742188</td>\n",
       "      <td>0.745611</td>\n",
       "      <td>0.314901</td>\n",
       "      <td>1783.171875</td>\n",
       "      <td>3382.882812</td>\n",
       "    </tr>\n",
       "  </tbody>\n",
       "</table>\n",
       "</div>"
      ],
      "text/plain": [
       "   peak pos [1/cm]  peak_heights  prominences   left_bases  right_bases\n",
       "0       124.789062      0.138841     0.063375   102.769531   313.140625\n",
       "1       631.638672      0.151766     0.119658   313.140625   650.863281\n",
       "2       859.189453      0.242811     0.176096   313.140625   920.322266\n",
       "3      1095.613281      0.194785     0.090611   920.322266  1159.972656\n",
       "4      1290.794922      0.313549     0.173357   313.140625  1347.218750\n",
       "5      1615.630859      1.000000     0.785282   313.140625  1655.207031\n",
       "6      1727.773438      0.749621     0.504528  1655.207031  1783.171875\n",
       "7      2966.837891      0.583737     0.137056  1783.171875  3046.316406\n",
       "8      3083.742188      0.745611     0.314901  1783.171875  3382.882812"
      ]
     },
     "execution_count": 195,
     "metadata": {},
     "output_type": "execute_result"
    }
   ],
   "source": [
    "cols = [cols[-1], cols[0], cols[1], cols[2], cols[3]]\n",
    "P = P.reindex(columns=cols)\n",
    "P[\"left_bases\"] = wavenumbers[P[\"left_bases\"]]\n",
    "P[\"right_bases\"] = wavenumbers[P[\"right_bases\"]]\n",
    "#P = P.sort_values(by=[\"peak pos [1/cm]\"])\n",
    "P"
   ]
  },
  {
   "cell_type": "markdown",
   "metadata": {},
   "source": [
    "### class chag (chada group)"
   ]
  },
  {
   "cell_type": "markdown",
   "metadata": {},
   "source": [
    "chag.build"
   ]
  },
  {
   "cell_type": "markdown",
   "metadata": {},
   "source": [
    "chag.compare"
   ]
  },
  {
   "cell_type": "markdown",
   "metadata": {},
   "source": [
    "chag.decompose"
   ]
  },
  {
   "cell_type": "code",
   "execution_count": null,
   "metadata": {},
   "outputs": [],
   "source": []
  }
 ],
 "metadata": {
  "kernelspec": {
   "display_name": "Python 3",
   "language": "python",
   "name": "python3"
  },
  "language_info": {
   "codemirror_mode": {
    "name": "ipython",
    "version": 3
   },
   "file_extension": ".py",
   "mimetype": "text/x-python",
   "name": "python",
   "nbconvert_exporter": "python",
   "pygments_lexer": "ipython3",
   "version": "3.7.6"
  }
 },
 "nbformat": 4,
 "nbformat_minor": 2
}
