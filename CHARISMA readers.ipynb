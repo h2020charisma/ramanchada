{
 "cells": [
  {
   "cell_type": "markdown",
   "metadata": {},
   "source": [
    "# Renishaw"
   ]
  },
  {
   "cell_type": "markdown",
   "metadata": {},
   "source": [
    "### RenishawWIRE"
   ]
  },
  {
   "cell_type": "code",
   "execution_count": 2,
   "metadata": {},
   "outputs": [
    {
     "ename": "ModuleNotFoundError",
     "evalue": "No module named 'renishawWiRE'",
     "output_type": "error",
     "traceback": [
      "\u001b[1;31m---------------------------------------------------------------------------\u001b[0m",
      "\u001b[1;31mModuleNotFoundError\u001b[0m                       Traceback (most recent call last)",
      "\u001b[1;32m<ipython-input-2-c9871bfb9de8>\u001b[0m in \u001b[0;36m<module>\u001b[1;34m\u001b[0m\n\u001b[1;32m----> 1\u001b[1;33m \u001b[1;32mfrom\u001b[0m \u001b[0mrenishawWiRE\u001b[0m \u001b[1;32mimport\u001b[0m \u001b[0mWDFReader\u001b[0m\u001b[1;33m\u001b[0m\u001b[1;33m\u001b[0m\u001b[0m\n\u001b[0m",
      "\u001b[1;31mModuleNotFoundError\u001b[0m: No module named 'renishawWiRE'"
     ]
    }
   ],
   "source": [
    "from renishawWiRE import WDFReader"
   ]
  },
  {
   "cell_type": "markdown",
   "metadata": {},
   "source": [
    "Read spectrum from CSIC"
   ]
  },
  {
   "cell_type": "code",
   "execution_count": null,
   "metadata": {},
   "outputs": [],
   "source": [
    "#`filename` can be string, file obj or `pathlib.Path`\n",
    "filename = r\"Z:\\WP Space\\WP 4\\Spectrum database\\Data from CSIC\\txt and wdf PET granza Renishaw Qontor\\200218-17.wdf\"\n",
    "reader = WDFReader(filename)"
   ]
  },
  {
   "cell_type": "markdown",
   "metadata": {},
   "source": [
    "Show meta data"
   ]
  },
  {
   "cell_type": "code",
   "execution_count": 2,
   "metadata": {},
   "outputs": [
    {
     "name": "stdout",
     "output_type": "stream",
     "text": [
      "                   Title:\tmicroplpolymers\n",
      "             WiRE version:\t5.2.0.9499\n",
      "        Laser Wavelength:\t514.5011961147924 nm\n",
      "                   Count:\t1\n",
      "                Capacity:\t1\n",
      "      Point Per Spectrum:\t3190\n",
      "               Scan Type:\tContinuous\n",
      "        Measurement Type:\tSingle\n",
      "           Spectral Unit:\tcounts\n",
      "              Xlist Unit:\t1/cm\n",
      "            Xlist Length:\t3190\n",
      "              Ylist Unit:\tpx\n",
      "            Ylist Length:\t1\n"
     ]
    }
   ],
   "source": [
    "reader.print_info()"
   ]
  },
  {
   "cell_type": "markdown",
   "metadata": {},
   "source": [
    "Plot spectrum"
   ]
  },
  {
   "cell_type": "code",
   "execution_count": 3,
   "metadata": {},
   "outputs": [
    {
     "data": {
      "text/plain": [
       "[<matplotlib.lines.Line2D at 0x1f95763c948>]"
      ]
     },
     "execution_count": 3,
     "metadata": {},
     "output_type": "execute_result"
    },
    {
     "data": {
      "image/png": "[encoded data removed]",
      "text/plain": [
       "<Figure size 432x288 with 1 Axes>"
      ]
     },
     "metadata": {
      "needs_background": "light"
     },
     "output_type": "display_data"
    }
   ],
   "source": [
    "# Example to read and plot single point spectrum\n",
    "# Assume same file as in previous section\n",
    "# Check `examples/ex2_sp_spectra.py`\n",
    "import matplotlib.pyplot as plt\n",
    "wavenumber = reader.xdata\n",
    "spectra = reader.spectra\n",
    "plt.plot(wavenumber, spectra)"
   ]
  },
  {
   "cell_type": "markdown",
   "metadata": {},
   "source": [
    "# specio"
   ]
  },
  {
   "cell_type": "markdown",
   "metadata": {},
   "source": [
    "### .spc"
   ]
  },
  {
   "cell_type": "code",
   "execution_count": 1,
   "metadata": {},
   "outputs": [],
   "source": [
    "import specio"
   ]
  },
  {
   "cell_type": "code",
   "execution_count": 2,
   "metadata": {},
   "outputs": [
    {
     "name": "stdout",
     "output_type": "stream",
     "text": [
      "CSV - Internal Comma-Separated Values format [.csv]\n",
      "DUMMY - An example format that does nothing. [.foobar, .nonexistentext]\n",
      "FSM - FSM Perkin Elmer Spotlight IR instrument binary format [.fsm]\n",
      "MZML - MZML Mass Spectrometry data format [.mzml]\n",
      "MZXML - mzXML Mass Spectrometry data format [.mzxml]\n",
      "SP - SP Perkin Elmer binary format. [.sp]\n",
      "SPC - Galactic Industries Corporation binary format [.spc]\n"
     ]
    }
   ],
   "source": [
    "specio.show_formats()"
   ]
  },
  {
   "cell_type": "markdown",
   "metadata": {},
   "source": [
    "Read spectrum from ELoDiz"
   ]
  },
  {
   "cell_type": "code",
   "execution_count": 3,
   "metadata": {},
   "outputs": [],
   "source": [
    "file = r\"Z:\\WP Space\\WP 4\\Spectrum database\\Data from ELoDiz\\csv spc and sps files Silicon Ostec S120\\Si100NoDope_S01.spc\""
   ]
  },
  {
   "cell_type": "code",
   "execution_count": 4,
   "metadata": {},
   "outputs": [
    {
     "name": "stdout",
     "output_type": "stream",
     "text": [
      "x-y(1)\n"
     ]
    }
   ],
   "source": [
    "s = specio.specread(file)"
   ]
  },
  {
   "cell_type": "markdown",
   "metadata": {},
   "source": [
    "Show some meta data"
   ]
  },
  {
   "cell_type": "code",
   "execution_count": 12,
   "metadata": {},
   "outputs": [
    {
     "data": {
      "text/plain": [
       "dict_keys(['length', 'ftflg', 'fversn', 'fexper', 'fexp', 'fnpts', 'ffirst', 'flast', 'fnsub', 'fxtype', 'fytype', 'fztype', 'fpost', 'fdate', 'fres', 'fsource', 'fpeakpt', 'fspare', 'fcmnt', 'fcatxt', 'flogoff', 'fmods', 'fprocs', 'flevel', 'fsampin', 'ffactor', 'fmethod', 'fzinc', 'fwplanes', 'fwinc', 'fwtype', 'freserv', 'tsprec', 'tcgram', 'tmulti', 'trandm', 'tordrd', 'talabs', 'txyxys', 'txvals', 'year', 'month', 'day', 'hour', 'minute', 'cmnt', 'dat_fmt', 'spacing', 'xlabel', 'zlabel', 'ylabel', 'exp_type', 'filename'])"
      ]
     },
     "execution_count": 12,
     "metadata": {},
     "output_type": "execute_result"
    }
   ],
   "source": [
    "s.meta.keys()"
   ]
  },
  {
   "cell_type": "code",
   "execution_count": 13,
   "metadata": {},
   "outputs": [
    {
     "data": {
      "text/plain": [
       "1.2140511226100128"
      ]
     },
     "execution_count": 13,
     "metadata": {},
     "output_type": "execute_result"
    }
   ],
   "source": [
    "s.meta['spacing']"
   ]
  },
  {
   "cell_type": "code",
   "execution_count": 14,
   "metadata": {},
   "outputs": [
    {
     "data": {
      "text/plain": [
       "2021"
      ]
     },
     "execution_count": 14,
     "metadata": {},
     "output_type": "execute_result"
    }
   ],
   "source": [
    "s.meta['year']"
   ]
  },
  {
   "cell_type": "code",
   "execution_count": 6,
   "metadata": {},
   "outputs": [],
   "source": [
    "import matplotlib.pyplot as plt"
   ]
  },
  {
   "cell_type": "code",
   "execution_count": 7,
   "metadata": {
    "scrolled": true
   },
   "outputs": [
    {
     "data": {
      "image/png": "[encoded data removed]",
      "text/plain": [
       "<Figure size 432x288 with 1 Axes>"
      ]
     },
     "metadata": {
      "needs_background": "light"
     },
     "output_type": "display_data"
    }
   ],
   "source": [
    "# Plot the first spectra\n",
    "plt.plot(s.wavelength,\n",
    "         s.amplitudes)\n",
    "plt.xlabel(s.meta['xlabel'])\n",
    "plt.ylabel(s.meta['ylabel'])\n",
    "plt.show()"
   ]
  },
  {
   "cell_type": "markdown",
   "metadata": {},
   "source": [
    "### .sp"
   ]
  },
  {
   "cell_type": "markdown",
   "metadata": {},
   "source": [
    "Read specio test file"
   ]
  },
  {
   "cell_type": "code",
   "execution_count": 21,
   "metadata": {},
   "outputs": [],
   "source": [
    "file = r\"Z:\\WP Space\\WP 4\\Spectrum database\\SP from specio\\sp2.spc\""
   ]
  },
  {
   "cell_type": "code",
   "execution_count": 22,
   "metadata": {},
   "outputs": [
    {
     "name": "stdout",
     "output_type": "stream",
     "text": [
      "x-y(1)\n"
     ]
    }
   ],
   "source": [
    "s2 = specio.specread(file)"
   ]
  },
  {
   "cell_type": "markdown",
   "metadata": {},
   "source": [
    "Show some meta data"
   ]
  },
  {
   "cell_type": "code",
   "execution_count": 26,
   "metadata": {},
   "outputs": [
    {
     "data": {
      "text/plain": [
       "dict_keys(['length', 'ftflg', 'fversn', 'fexper', 'fexp', 'fnpts', 'ffirst', 'flast', 'fnsub', 'fxtype', 'fytype', 'fztype', 'fpost', 'fdate', 'fres', 'fsource', 'fpeakpt', 'fspare', 'fcmnt', 'fcatxt', 'flogoff', 'fmods', 'fprocs', 'flevel', 'fsampin', 'ffactor', 'fmethod', 'fzinc', 'fwplanes', 'fwinc', 'fwtype', 'freserv', 'tsprec', 'tcgram', 'tmulti', 'trandm', 'tordrd', 'talabs', 'txyxys', 'txvals', 'year', 'month', 'day', 'hour', 'minute', 'cmnt', 'dat_fmt', 'logsizd', 'logsizm', 'logtxto', 'logbins', 'logdsks', 'logspar', 'log_content', 'log_dict', 'log_other', 'spacing', 'xlabel', 'zlabel', 'ylabel', 'exp_type', 'filename'])"
      ]
     },
     "execution_count": 26,
     "metadata": {},
     "output_type": "execute_result"
    }
   ],
   "source": [
    "s2.meta.keys()"
   ]
  },
  {
   "cell_type": "code",
   "execution_count": 27,
   "metadata": {},
   "outputs": [
    {
     "data": {
      "text/plain": [
       "1.9632838451400925"
      ]
     },
     "execution_count": 27,
     "metadata": {},
     "output_type": "execute_result"
    }
   ],
   "source": [
    "s2.meta['spacing']"
   ]
  },
  {
   "cell_type": "code",
   "execution_count": 28,
   "metadata": {},
   "outputs": [
    {
     "data": {
      "text/plain": [
       "117"
      ]
     },
     "execution_count": 28,
     "metadata": {},
     "output_type": "execute_result"
    }
   ],
   "source": [
    "s2.meta['year']"
   ]
  },
  {
   "cell_type": "code",
   "execution_count": 29,
   "metadata": {
    "scrolled": true
   },
   "outputs": [
    {
     "data": {
      "image/png": "[encoded data removed]",
      "text/plain": [
       "<Figure size 432x288 with 1 Axes>"
      ]
     },
     "metadata": {
      "needs_background": "light"
     },
     "output_type": "display_data"
    }
   ],
   "source": [
    "# Plot the first spectra\n",
    "plt.plot(s2.wavelength,\n",
    "         s2.amplitudes)\n",
    "plt.xlabel(s2.meta['xlabel'])\n",
    "plt.ylabel(s2.meta['ylabel'])\n",
    "plt.show()"
   ]
  },
  {
   "cell_type": "markdown",
   "metadata": {},
   "source": [
    "Read spectrum from CSIC"
   ]
  },
  {
   "cell_type": "code",
   "execution_count": 30,
   "metadata": {},
   "outputs": [],
   "source": [
    "file = r\"Z:\\WP Space\\WP 4\\Spectrum database\\Data from CSIC\\csv and SP Perkin Elmer\\2-propanol_glycerol.sp\""
   ]
  },
  {
   "cell_type": "markdown",
   "metadata": {},
   "source": [
    "#### That doesn't work !"
   ]
  },
  {
   "cell_type": "code",
   "execution_count": 31,
   "metadata": {},
   "outputs": [
    {
     "ename": "ValueError",
     "evalue": "Could not find a format to read the specified file",
     "output_type": "error",
     "traceback": [
      "\u001b[1;31m---------------------------------------------------------------------------\u001b[0m",
      "\u001b[1;31mValueError\u001b[0m                                Traceback (most recent call last)",
      "\u001b[1;32m<ipython-input-31-8bc428c2a08f>\u001b[0m in \u001b[0;36m<module>\u001b[1;34m\u001b[0m\n\u001b[1;32m----> 1\u001b[1;33m \u001b[0ms2\u001b[0m \u001b[1;33m=\u001b[0m \u001b[0mspecio\u001b[0m\u001b[1;33m.\u001b[0m\u001b[0mspecread\u001b[0m\u001b[1;33m(\u001b[0m\u001b[0mfile\u001b[0m\u001b[1;33m)\u001b[0m\u001b[1;33m\u001b[0m\u001b[1;33m\u001b[0m\u001b[0m\n\u001b[0m",
      "\u001b[1;32m~\\.conda\\envs\\Extended_LBF\\lib\\site-packages\\specio\\core\\functions.py\u001b[0m in \u001b[0;36mspecread\u001b[1;34m(uri, format, tol_wavelength, **kwargs)\u001b[0m\n\u001b[0;32m    244\u001b[0m     \u001b[0mfilenames\u001b[0m \u001b[1;33m=\u001b[0m \u001b[0m_validate_filenames\u001b[0m\u001b[1;33m(\u001b[0m\u001b[0muri\u001b[0m\u001b[1;33m)\u001b[0m\u001b[1;33m\u001b[0m\u001b[1;33m\u001b[0m\u001b[0m\n\u001b[0;32m    245\u001b[0m     spectrum = [_get_reader_get_data(f, format, **kwargs)\n\u001b[1;32m--> 246\u001b[1;33m                 for f in filenames]\n\u001b[0m\u001b[0;32m    247\u001b[0m     return (_zip_spectrum(spectrum, tol_wavelength) if len(spectrum) > 1\n\u001b[0;32m    248\u001b[0m             else spectrum[0])\n",
      "\u001b[1;32m~\\.conda\\envs\\Extended_LBF\\lib\\site-packages\\specio\\core\\functions.py\u001b[0m in \u001b[0;36m<listcomp>\u001b[1;34m(.0)\u001b[0m\n\u001b[0;32m    244\u001b[0m     \u001b[0mfilenames\u001b[0m \u001b[1;33m=\u001b[0m \u001b[0m_validate_filenames\u001b[0m\u001b[1;33m(\u001b[0m\u001b[0muri\u001b[0m\u001b[1;33m)\u001b[0m\u001b[1;33m\u001b[0m\u001b[1;33m\u001b[0m\u001b[0m\n\u001b[0;32m    245\u001b[0m     spectrum = [_get_reader_get_data(f, format, **kwargs)\n\u001b[1;32m--> 246\u001b[1;33m                 for f in filenames]\n\u001b[0m\u001b[0;32m    247\u001b[0m     return (_zip_spectrum(spectrum, tol_wavelength) if len(spectrum) > 1\n\u001b[0;32m    248\u001b[0m             else spectrum[0])\n",
      "\u001b[1;32m~\\.conda\\envs\\Extended_LBF\\lib\\site-packages\\specio\\core\\functions.py\u001b[0m in \u001b[0;36m_get_reader_get_data\u001b[1;34m(uri, format, **kwargs)\u001b[0m\n\u001b[0;32m    115\u001b[0m \u001b[1;32mdef\u001b[0m \u001b[0m_get_reader_get_data\u001b[0m\u001b[1;33m(\u001b[0m\u001b[0muri\u001b[0m\u001b[1;33m,\u001b[0m \u001b[0mformat\u001b[0m\u001b[1;33m,\u001b[0m \u001b[1;33m**\u001b[0m\u001b[0mkwargs\u001b[0m\u001b[1;33m)\u001b[0m\u001b[1;33m:\u001b[0m\u001b[1;33m\u001b[0m\u001b[1;33m\u001b[0m\u001b[0m\n\u001b[0;32m    116\u001b[0m     \u001b[1;34m\"\"\"Get the reader and the associated data.\"\"\"\u001b[0m\u001b[1;33m\u001b[0m\u001b[1;33m\u001b[0m\u001b[0m\n\u001b[1;32m--> 117\u001b[1;33m     \u001b[0mreader\u001b[0m \u001b[1;33m=\u001b[0m \u001b[0mget_reader\u001b[0m\u001b[1;33m(\u001b[0m\u001b[0muri\u001b[0m\u001b[1;33m,\u001b[0m \u001b[0mformat\u001b[0m\u001b[1;33m,\u001b[0m \u001b[1;33m**\u001b[0m\u001b[0mkwargs\u001b[0m\u001b[1;33m)\u001b[0m\u001b[1;33m\u001b[0m\u001b[1;33m\u001b[0m\u001b[0m\n\u001b[0m\u001b[0;32m    118\u001b[0m     \u001b[1;32mwith\u001b[0m \u001b[0mreader\u001b[0m\u001b[1;33m:\u001b[0m\u001b[1;33m\u001b[0m\u001b[1;33m\u001b[0m\u001b[0m\n\u001b[0;32m    119\u001b[0m         \u001b[1;32mreturn\u001b[0m \u001b[0mreader\u001b[0m\u001b[1;33m.\u001b[0m\u001b[0mget_data\u001b[0m\u001b[1;33m(\u001b[0m\u001b[0mindex\u001b[0m\u001b[1;33m=\u001b[0m\u001b[1;32mNone\u001b[0m\u001b[1;33m)\u001b[0m\u001b[1;33m\u001b[0m\u001b[1;33m\u001b[0m\u001b[0m\n",
      "\u001b[1;32m~\\.conda\\envs\\Extended_LBF\\lib\\site-packages\\specio\\core\\functions.py\u001b[0m in \u001b[0;36mget_reader\u001b[1;34m(uri, format, **kwargs)\u001b[0m\n\u001b[0;32m    105\u001b[0m         \u001b[0mformat\u001b[0m \u001b[1;33m=\u001b[0m \u001b[0mformats\u001b[0m\u001b[1;33m.\u001b[0m\u001b[0msearch_read_format\u001b[0m\u001b[1;33m(\u001b[0m\u001b[0mrequest\u001b[0m\u001b[1;33m)\u001b[0m\u001b[1;33m\u001b[0m\u001b[1;33m\u001b[0m\u001b[0m\n\u001b[0;32m    106\u001b[0m     \u001b[1;32mif\u001b[0m \u001b[0mformat\u001b[0m \u001b[1;32mis\u001b[0m \u001b[1;32mNone\u001b[0m\u001b[1;33m:\u001b[0m\u001b[1;33m\u001b[0m\u001b[1;33m\u001b[0m\u001b[0m\n\u001b[1;32m--> 107\u001b[1;33m         \u001b[1;32mraise\u001b[0m \u001b[0mValueError\u001b[0m\u001b[1;33m(\u001b[0m\u001b[1;34m'Could not find a format to read the specified file'\u001b[0m\u001b[1;33m)\u001b[0m\u001b[1;33m\u001b[0m\u001b[1;33m\u001b[0m\u001b[0m\n\u001b[0m\u001b[0;32m    108\u001b[0m \u001b[1;33m\u001b[0m\u001b[0m\n\u001b[0;32m    109\u001b[0m     \u001b[1;31m# Return its reader object\u001b[0m\u001b[1;33m\u001b[0m\u001b[1;33m\u001b[0m\u001b[1;33m\u001b[0m\u001b[0m\n",
      "\u001b[1;31mValueError\u001b[0m: Could not find a format to read the specified file"
     ]
    }
   ],
   "source": [
    "s2 = specio.specread(file)"
   ]
  },
  {
   "cell_type": "code",
   "execution_count": null,
   "metadata": {},
   "outputs": [],
   "source": []
  }
 ],
 "metadata": {
  "kernelspec": {
   "display_name": "Python 3",
   "language": "python",
   "name": "python3"
  },
  "language_info": {
   "codemirror_mode": {
    "name": "ipython",
    "version": 3
   },
   "file_extension": ".py",
   "mimetype": "text/x-python",
   "name": "python",
   "nbconvert_exporter": "python",
   "pygments_lexer": "ipython3",
   "version": "3.7.6"
  }
 },
 "nbformat": 4,
 "nbformat_minor": 4
}
