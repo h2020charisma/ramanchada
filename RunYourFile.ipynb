{
 "cells": [
  {
   "cell_type": "code",
   "execution_count": null,
   "id": "87bac9e7",
   "metadata": {},
   "outputs": [],
   "source": [
    "from ramanchada.classes import RamanChada\n",
    "import os, warnings\n",
    "from pathlib import Path\n",
    "warnings.filterwarnings('ignore')\n",
    "def get_cha_file(native_file_name):\n",
    "    s = native_file_name.split(\".\")\n",
    "    ext = s[len(s)-1]\n",
    "    return native_file_name.replace(ext,\"cha\")\n",
    "\n",
    "def remove_file(file_name):\n",
    "    if (Path(file_name).exists()):\n",
    "        os.remove(file_name)\n",
    "        "
   ]
  },
  {
   "cell_type": "code",
   "execution_count": null,
   "id": "601246af",
   "metadata": {},
   "outputs": [],
   "source": [
    "from ipyfilechooser import FileChooser"
   ]
  },
  {
   "cell_type": "code",
   "execution_count": null,
   "id": "af002698",
   "metadata": {},
   "outputs": [],
   "source": [
    "fc = FileChooser('.')\n",
    "display(fc)"
   ]
  },
  {
   "cell_type": "code",
   "execution_count": null,
   "id": "81761d88",
   "metadata": {},
   "outputs": [],
   "source": [
    "print(fc.selected)"
   ]
  },
  {
   "cell_type": "code",
   "execution_count": null,
   "id": "dc8c2cdd",
   "metadata": {},
   "outputs": [],
   "source": [
    "\n",
    "remove_file(get_cha_file(fc.selected))\n",
    "R = RamanChada(fc.selected)"
   ]
  },
  {
   "cell_type": "code",
   "execution_count": null,
   "id": "2d7e83b9",
   "metadata": {},
   "outputs": [],
   "source": [
    "R.plot()"
   ]
  },
  {
   "cell_type": "code",
   "execution_count": null,
   "id": "d79ff32a",
   "metadata": {},
   "outputs": [],
   "source": []
  }
 ],
 "metadata": {
  "kernelspec": {
   "display_name": "Python 3",
   "language": "python",
   "name": "python3"
  },
  "language_info": {
   "codemirror_mode": {
    "name": "ipython",
    "version": 3
   },
   "file_extension": ".py",
   "mimetype": "text/x-python",
   "name": "python",
   "nbconvert_exporter": "python",
   "pygments_lexer": "ipython3",
   "version": "3.8.5"
  }
 },
 "nbformat": 4,
 "nbformat_minor": 5
}
