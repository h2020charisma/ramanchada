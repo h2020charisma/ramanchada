{
 "cells": [
  {
   "cell_type": "markdown",
   "id": "dbbd56a4",
   "metadata": {},
   "source": [
    "# Raman chada test notebook"
   ]
  },
  {
   "cell_type": "code",
   "execution_count": null,
   "id": "e821178d",
   "metadata": {},
   "outputs": [],
   "source": [
    "from ramanchada.classes import RamanChada\n",
    "import importlib\n",
    "import os, warnings\n",
    "from pathlib import Path\n",
    "warnings.filterwarnings('ignore')"
   ]
  },
  {
   "cell_type": "code",
   "execution_count": null,
   "id": "4f47de08",
   "metadata": {},
   "outputs": [],
   "source": [
    "print(\"Hello world\")"
   ]
  },
  {
   "cell_type": "code",
   "execution_count": null,
   "id": "87bac9e7",
   "metadata": {},
   "outputs": [],
   "source": [
    "\n",
    "def get_cha_file(native_file_name):\n",
    "    s = native_file_name.split(\".\")\n",
    "    ext = s[len(s)-1]\n",
    "    if ext==\"cha\":\n",
    "        return None\n",
    "    else:\n",
    "        return native_file_name.replace(ext,\"cha\")\n",
    "\n",
    "def remove_file(file_name):\n",
    "    if file_name !=None and (Path(file_name).exists()):\n",
    "        os.remove(file_name)\n",
    "        print(\"Deleted {}\".format(file_name))\n",
    "        "
   ]
  },
  {
   "cell_type": "code",
   "execution_count": null,
   "id": "601246af",
   "metadata": {},
   "outputs": [],
   "source": [
    "#!pip install ipyfilechooser\n",
    "from ipyfilechooser import FileChooser"
   ]
  },
  {
   "cell_type": "code",
   "execution_count": null,
   "id": "af002698",
   "metadata": {},
   "outputs": [],
   "source": [
    "fc = FileChooser('.')\n",
    "fc.reset(path=\"/\")\n",
    "display(fc)"
   ]
  },
  {
   "cell_type": "code",
   "execution_count": null,
   "id": "81761d88",
   "metadata": {},
   "outputs": [],
   "source": [
    "print(fc.selected)"
   ]
  },
  {
   "cell_type": "code",
   "execution_count": null,
   "id": "dc8c2cdd",
   "metadata": {},
   "outputs": [],
   "source": [
    "\n",
    "remove_file(get_cha_file(fc.selected))\n",
    "R = RamanChada(fc.selected)"
   ]
  },
  {
   "cell_type": "code",
   "execution_count": null,
   "id": "2d7e83b9",
   "metadata": {},
   "outputs": [],
   "source": [
    "R.plot()"
   ]
  },
  {
   "cell_type": "code",
   "execution_count": null,
   "id": "71befb47",
   "metadata": {},
   "outputs": [],
   "source": [
    "R.fit_baseline()\n",
    "R.remove_baseline()\n",
    "R.plot()"
   ]
  },
  {
   "cell_type": "code",
   "execution_count": null,
   "id": "2126fb7f",
   "metadata": {},
   "outputs": [],
   "source": [
    "R.x_crop(500,1900)\n",
    "R.plot()"
   ]
  },
  {
   "cell_type": "code",
   "execution_count": null,
   "id": "7b24d7ca",
   "metadata": {},
   "outputs": [],
   "source": [
    "R.normalize()\n",
    "R.plot()"
   ]
  },
  {
   "cell_type": "code",
   "execution_count": null,
   "id": "bfe59497",
   "metadata": {},
   "outputs": [],
   "source": [
    "import ramanchada\n",
    "importlib.reload(ramanchada)\n",
    "R.peaks()"
   ]
  },
  {
   "cell_type": "code",
   "execution_count": null,
   "id": "2d7f25ce",
   "metadata": {},
   "outputs": [],
   "source": [
    "R.bands"
   ]
  },
  {
   "cell_type": "code",
   "execution_count": null,
   "id": "c3b857c9",
   "metadata": {},
   "outputs": [],
   "source": [
    "R.peaks(show=True)"
   ]
  },
  {
   "cell_type": "code",
   "execution_count": null,
   "id": "fdcf074a",
   "metadata": {},
   "outputs": [],
   "source": [
    "R.normalize(\"area\")\n"
   ]
  },
  {
   "cell_type": "code",
   "execution_count": null,
   "id": "813baea9",
   "metadata": {},
   "outputs": [],
   "source": [
    "R.peaks(show=True)"
   ]
  },
  {
   "cell_type": "code",
   "execution_count": null,
   "id": "a6307cc6",
   "metadata": {},
   "outputs": [],
   "source": [
    "R.peaks(fitmethod='vg',show=True)"
   ]
  },
  {
   "cell_type": "code",
   "execution_count": null,
   "id": "90d6bb3c",
   "metadata": {},
   "outputs": [],
   "source": [
    "R.bands"
   ]
  },
  {
   "cell_type": "code",
   "execution_count": null,
   "id": "e5383b38",
   "metadata": {},
   "outputs": [],
   "source": [
    "R.bands.to_excel(\"bands.xlsx\")"
   ]
  },
  {
   "cell_type": "code",
   "execution_count": null,
   "id": "7779341a",
   "metadata": {},
   "outputs": [],
   "source": []
  }
 ],
 "metadata": {
  "kernelspec": {
   "display_name": "Python 3",
   "language": "python",
   "name": "python3"
  },
  "language_info": {
   "codemirror_mode": {
    "name": "ipython",
    "version": 3
   },
   "file_extension": ".py",
   "mimetype": "text/x-python",
   "name": "python",
   "nbconvert_exporter": "python",
   "pygments_lexer": "ipython3",
   "version": "3.8.5"
  }
 },
 "nbformat": 4,
 "nbformat_minor": 5
}
