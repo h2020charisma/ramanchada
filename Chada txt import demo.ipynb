{
 "cells": [
  {
   "cell_type": "markdown",
   "metadata": {},
   "source": [
    "# Demo of text file format import into CHADA"
   ]
  },
  {
   "cell_type": "markdown",
   "metadata": {},
   "source": [
    "### Apr 28, 2021\n",
    "### May 25, 2021 NJ"
   ]
  },
  {
   "cell_type": "code",
   "execution_count": null,
   "metadata": {},
   "outputs": [],
   "source": [
    "from ramanchada import chada,chada_utilities,chada_io\n",
    "import os\n",
    "from os import path\n",
    "TEST_FILES = \"test\""
   ]
  },
  {
   "cell_type": "markdown",
   "metadata": {},
   "source": [
    "### Import txt data from BWTek"
   ]
  },
  {
   "cell_type": "markdown",
   "metadata": {},
   "source": [
    "#### 1.  txtr"
   ]
  },
  {
   "cell_type": "code",
   "execution_count": null,
   "metadata": {},
   "outputs": [],
   "source": [
    "source = r\"\\\\vm-stor-51\\alle\\Projekte Kunststoffe\\RD\\MA\\Öffentliche_Projekte\\2020-01-07_230007_H2020-CHARISMA_barton\\Python\\charisma-raman-spectrum-harmonization\\test_data\\Spectrum database\\Charisma_ENCAPSULAE data-BWTEK\\jan 2021\\Aditive AS020P\\AS020P 7500 2 2.txtr\"\n",
    "source = os.path.join(TEST_FILES,\"AS020P 7500 2 2.txtr\")\n",
    "assert os.path.exists(source)"
   ]
  },
  {
   "cell_type": "code",
   "execution_count": null,
   "metadata": {},
   "outputs": [],
   "source": [
    "target = r\"\\\\vm-stor-51\\alle\\Projekte Kunststoffe\\RD\\MA\\Öffentliche_Projekte\\2020-01-07_230007_H2020-CHARISMA_barton\\Python\\charisma-raman-spectrum-harmonization\\test_data\\BWTek_txtr.cha\"\n",
    "target = os.path.join(TEST_FILES,\"BWTek_txtr.cha\")"
   ]
  },
  {
   "cell_type": "code",
   "execution_count": null,
   "metadata": {},
   "outputs": [],
   "source": [
    "chada_file = chada_io.create(source, target)\n",
    "assert os.path.exists(chada_file)\n",
    "assert chada_file == target"
   ]
  },
  {
   "cell_type": "code",
   "execution_count": null,
   "metadata": {},
   "outputs": [],
   "source": [
    "BWTek1 = chada.Chada(target)"
   ]
  },
  {
   "cell_type": "code",
   "execution_count": null,
   "metadata": {},
   "outputs": [],
   "source": [
    "BWTek1.x_data"
   ]
  },
  {
   "cell_type": "code",
   "execution_count": null,
   "metadata": {},
   "outputs": [],
   "source": [
    "BWTek1.plot()\n",
    "BWTek1.x_crop(100,3000)\n",
    "BWTek1.fit_baseline()\n",
    "BWTek1.remove_baseline()\n",
    "\n",
    "BWTek1.normalize()\n",
    "BWTek1.peaks(True)"
   ]
  },
  {
   "cell_type": "code",
   "execution_count": null,
   "metadata": {},
   "outputs": [],
   "source": [
    "BWTek1.commit()"
   ]
  },
  {
   "cell_type": "markdown",
   "metadata": {},
   "source": [
    "#### 2.  txt file from tacticiID N BWTek"
   ]
  },
  {
   "cell_type": "code",
   "execution_count": null,
   "metadata": {},
   "outputs": [],
   "source": [
    "source = r\"\\\\?\\UNC\\vm-stor-51\\alle\\Projekte Kunststoffe\\RD\\MA\\Öffentliche_Projekte\\2020-01-07_230007_H2020-CHARISMA_barton\\Python\\charisma-raman-spectrum-harmonization\\test_data\\Spectrum database\\Data from ELoDiz\\txt and spc files from tacticiID N BWTek\\DAAARH_20190517135534_239.txt\"\n",
    "\n",
    "source = os.path.join(TEST_FILES,\"DAAARH_20190517135534_239.txt\")\n",
    "assert os.path.exists(source)"
   ]
  },
  {
   "cell_type": "code",
   "execution_count": null,
   "metadata": {},
   "outputs": [],
   "source": [
    "target = r\"\\\\vm-stor-51\\alle\\Projekte Kunststoffe\\RD\\MA\\Öffentliche_Projekte\\2020-01-07_230007_H2020-CHARISMA_barton\\Python\\charisma-raman-spectrum-harmonization\\test_data\\BWTek_txt1.cha\"\n",
    "\n",
    "target= os.path.join(TEST_FILES,\"BWTek_txt1.cha\")\n"
   ]
  },
  {
   "cell_type": "code",
   "execution_count": null,
   "metadata": {},
   "outputs": [],
   "source": [
    "chada_file = chada_io.create(source, target)\n",
    "assert os.path.exists(target)\n",
    "assert chada_file==target"
   ]
  },
  {
   "cell_type": "code",
   "execution_count": null,
   "metadata": {},
   "outputs": [],
   "source": [
    "BWTek2 = chada.Chada(target)"
   ]
  },
  {
   "cell_type": "code",
   "execution_count": null,
   "metadata": {},
   "outputs": [],
   "source": [
    "BWTek2.plot()\n",
    "BWTek2.x_crop(100,4000)\n",
    "BWTek2.fit_baseline(niter=1000, smooth=11)\n",
    "BWTek2.remove_baseline()\n",
    "BWTek2.normalize()\n",
    "BWTek2.peaks(True)"
   ]
  },
  {
   "cell_type": "code",
   "execution_count": null,
   "metadata": {},
   "outputs": [],
   "source": [
    "BWTek2.commit()"
   ]
  },
  {
   "cell_type": "markdown",
   "metadata": {},
   "source": [
    "#### 3.  txt file graphene BWTek iRaman Plus 785S"
   ]
  },
  {
   "cell_type": "code",
   "execution_count": null,
   "metadata": {},
   "outputs": [],
   "source": [
    "source = r\"\\\\?\\UNC\\vm-stor-51\\alle\\Projekte Kunststoffe\\RD\\MA\\Öffentliche_Projekte\\2020-01-07_230007_H2020-CHARISMA_barton\\Python\\charisma-raman-spectrum-harmonization\\test_data\\Spectrum database\\Data from ELoDiz\\txt files graphene BWTek iRaman Plus 785S\\Sample 2 5min analysis Run1.txt\"\n",
    "source = os.path.join(TEST_FILES,\"Sample 2 5min analysis Run1.txt\")\n",
    "assert os.path.exists(source)"
   ]
  },
  {
   "cell_type": "code",
   "execution_count": null,
   "metadata": {},
   "outputs": [],
   "source": [
    "target = r\"\\\\vm-stor-51\\alle\\Projekte Kunststoffe\\RD\\MA\\Öffentliche_Projekte\\2020-01-07_230007_H2020-CHARISMA_barton\\Python\\charisma-raman-spectrum-harmonization\\test_data\\BWTek_txt2.cha\"\n",
    "target = os.path.join(TEST_FILES,\"BWTek_txt2.cha\")"
   ]
  },
  {
   "cell_type": "code",
   "execution_count": null,
   "metadata": {},
   "outputs": [],
   "source": [
    "chada_file = chada_io.create(source, target)\n",
    "assert os.path.exists(target)\n",
    "assert chada_file==target"
   ]
  },
  {
   "cell_type": "code",
   "execution_count": null,
   "metadata": {},
   "outputs": [],
   "source": [
    "BWTek3 = chada.Chada(target)"
   ]
  },
  {
   "cell_type": "code",
   "execution_count": null,
   "metadata": {},
   "outputs": [],
   "source": [
    "BWTek3.plot()\n",
    "BWTek3.x_crop(200,3000)\n",
    "BWTek3.fit_baseline(niter=1000, smooth=11)\n",
    "BWTek3.remove_baseline()\n",
    "BWTek3.normalize()\n",
    "BWTek3.peaks(True)"
   ]
  },
  {
   "cell_type": "code",
   "execution_count": null,
   "metadata": {},
   "outputs": [],
   "source": [
    "BWTek3.commit()"
   ]
  },
  {
   "cell_type": "markdown",
   "metadata": {},
   "source": [
    "### Import txt data from other manufacturers"
   ]
  },
  {
   "cell_type": "markdown",
   "metadata": {},
   "source": [
    "#### 4.  ELoDiz: txt from optosky"
   ]
  },
  {
   "cell_type": "code",
   "execution_count": null,
   "metadata": {},
   "outputs": [],
   "source": [
    "source = r\"\\\\vm-stor-51\\alle\\Projekte Kunststoffe\\RD\\MA\\Öffentliche_Projekte\\2020-01-07_230007_H2020-CHARISMA_barton\\Python\\charisma-raman-spectrum-harmonization\\test_data\\Spectrum database\\Data from ELoDiz\\txt from optosky\\2020_03_30_10_05_42_supportAdmin_CaCO.txt\"\n",
    "\n",
    "source = os.path.join(TEST_FILES,\"2020_03_30_10_05_42_supportAdmin_CaCO.txt\")\n",
    "assert os.path.exists(source)"
   ]
  },
  {
   "cell_type": "code",
   "execution_count": null,
   "metadata": {},
   "outputs": [],
   "source": [
    "target = r\"\\\\vm-stor-51\\alle\\Projekte Kunststoffe\\RD\\MA\\Öffentliche_Projekte\\2020-01-07_230007_H2020-CHARISMA_barton\\Python\\charisma-raman-spectrum-harmonization\\test_data\\optosky.cha\"\n",
    "\n",
    "target=os.path.join(TEST_FILES,\"optosky.cha\")\n"
   ]
  },
  {
   "cell_type": "code",
   "execution_count": null,
   "metadata": {},
   "outputs": [],
   "source": [
    "chada_file = chada_io.create(source, target)\n",
    "assert os.path.exists(target)\n",
    "assert chada_file == target"
   ]
  },
  {
   "cell_type": "code",
   "execution_count": null,
   "metadata": {},
   "outputs": [],
   "source": [
    "OPTO = chada.Chada(target)"
   ]
  },
  {
   "cell_type": "code",
   "execution_count": null,
   "metadata": {},
   "outputs": [],
   "source": [
    "OPTO.plot()\n",
    "OPTO.x_crop(100,4000)\n",
    "OPTO.fit_baseline(niter=1000, smooth=11)\n",
    "OPTO.remove_baseline()\n",
    "OPTO.normalize()\n",
    "OPTO.peaks(True)"
   ]
  },
  {
   "cell_type": "code",
   "execution_count": null,
   "metadata": {},
   "outputs": [],
   "source": [
    "OPTO.commit()"
   ]
  },
  {
   "cell_type": "markdown",
   "metadata": {},
   "source": [
    "#### 5.  ELoDiz: rruff files"
   ]
  },
  {
   "cell_type": "code",
   "execution_count": null,
   "metadata": {},
   "outputs": [],
   "source": [
    "source = r\"\\\\vm-stor-51\\alle\\Projekte Kunststoffe\\RD\\MA\\Öffentliche_Projekte\\2020-01-07_230007_H2020-CHARISMA_barton\\Python\\charisma-raman-spectrum-harmonization\\test_data\\Spectrum database\\Data from ELoDiz\\rruff files\\R040070.rruff.785.txt\"\n",
    "\n",
    "source = os.path.join(TEST_FILES,\"R040070.rruff.785.txt\")\n",
    "assert os.path.exists(source)"
   ]
  },
  {
   "cell_type": "code",
   "execution_count": null,
   "metadata": {},
   "outputs": [],
   "source": [
    "target = r\"\\\\vm-stor-51\\alle\\Projekte Kunststoffe\\RD\\MA\\Öffentliche_Projekte\\2020-01-07_230007_H2020-CHARISMA_barton\\Python\\charisma-raman-spectrum-harmonization\\test_data\\rruff.cha\"\n",
    "target = os.path.join(TEST_FILES,\"rruff.cha\")"
   ]
  },
  {
   "cell_type": "code",
   "execution_count": null,
   "metadata": {},
   "outputs": [],
   "source": [
    "chada_file = chada_io.create(source, target)\n",
    "assert os.path.exists(target)\n",
    "assert chada_file == target"
   ]
  },
  {
   "cell_type": "code",
   "execution_count": null,
   "metadata": {},
   "outputs": [],
   "source": [
    "R = chada.Chada(target)"
   ]
  },
  {
   "cell_type": "code",
   "execution_count": null,
   "metadata": {},
   "outputs": [],
   "source": [
    "R.plot()\n",
    "R.x_crop(50,4000)\n",
    "R.fit_baseline(niter=1000, smooth=11)\n",
    "#why twice?\n",
    "R.fit_baseline(niter=1000, smooth=11)\n",
    "R.remove_baseline()\n",
    "R.normalize()\n",
    "R.peaks(True)"
   ]
  },
  {
   "cell_type": "code",
   "execution_count": null,
   "metadata": {},
   "outputs": [],
   "source": [
    "R.commit()"
   ]
  },
  {
   "cell_type": "markdown",
   "metadata": {},
   "source": [
    "#### 6.  ELoDiz: txt files export bwtek ispec"
   ]
  },
  {
   "cell_type": "code",
   "execution_count": null,
   "metadata": {},
   "outputs": [],
   "source": [
    "source = r\"\\\\vm-stor-51\\alle\\Projekte Kunststoffe\\RD\\MA\\Öffentliche_Projekte\\2020-01-07_230007_H2020-CHARISMA_barton\\Python\\charisma-raman-spectrum-harmonization\\test_data\\Spectrum database\\Data from ELoDiz\\txt and spc files export bwtek ispec\\Ratio3_ROA_L.txt\"\n",
    "\n",
    "source = os.path.join(TEST_FILES,\"Ratio3_ROA_L.txt\")\n",
    "assert os.path.exists(source)"
   ]
  },
  {
   "cell_type": "code",
   "execution_count": null,
   "metadata": {},
   "outputs": [],
   "source": [
    "target = r\"\\\\vm-stor-51\\alle\\Projekte Kunststoffe\\RD\\MA\\Öffentliche_Projekte\\2020-01-07_230007_H2020-CHARISMA_barton\\Python\\charisma-raman-spectrum-harmonization\\test_data\\BWTek_ispec.cha\"\n",
    "\n",
    "target = os.path.join(TEST_FILES,\"BWTek_ispec.cha\")"
   ]
  },
  {
   "cell_type": "code",
   "execution_count": null,
   "metadata": {},
   "outputs": [],
   "source": [
    "chada_file = chada_io.create(source, target)\n",
    "assert os.path.exists(target)\n",
    "assert chada_file==target"
   ]
  },
  {
   "cell_type": "code",
   "execution_count": null,
   "metadata": {},
   "outputs": [],
   "source": [
    "B = chada.Chada(target)"
   ]
  },
  {
   "cell_type": "code",
   "execution_count": null,
   "metadata": {},
   "outputs": [],
   "source": [
    "B.plot()\n",
    "B.x_crop(50,3000)\n",
    "B.fit_baseline(niter=1000, smooth=11)\n",
    "B.fit_baseline(niter=1000, smooth=11)\n",
    "B.remove_baseline()\n",
    "B.normalize()\n",
    "B.peaks(True)"
   ]
  },
  {
   "cell_type": "code",
   "execution_count": null,
   "metadata": {},
   "outputs": [],
   "source": [
    "B.x_data"
   ]
  },
  {
   "cell_type": "code",
   "execution_count": null,
   "metadata": {},
   "outputs": [],
   "source": [
    "B.commit()"
   ]
  },
  {
   "cell_type": "markdown",
   "metadata": {},
   "source": [
    "#### 7.  ELoDiz: csv files Silicon Ostec S120"
   ]
  },
  {
   "cell_type": "code",
   "execution_count": null,
   "metadata": {},
   "outputs": [],
   "source": [
    "source = r\"\\\\vm-stor-51\\alle\\Projekte Kunststoffe\\RD\\MA\\Öffentliche_Projekte\\2020-01-07_230007_H2020-CHARISMA_barton\\Python\\charisma-raman-spectrum-harmonization\\test_data\\Spectrum database\\Data from ELoDiz\\csv spc and sps files Silicon Ostec S120\\Si100NoDope_S02.csv\"\n",
    "\n",
    "source = os.path.join(TEST_FILES,\"Si100NoDope_S02.csv\")\n",
    "assert os.path.exists(source)"
   ]
  },
  {
   "cell_type": "code",
   "execution_count": null,
   "metadata": {},
   "outputs": [],
   "source": [
    "target = r\"\\\\vm-stor-51\\alle\\Projekte Kunststoffe\\RD\\MA\\Öffentliche_Projekte\\2020-01-07_230007_H2020-CHARISMA_barton\\Python\\charisma-raman-spectrum-harmonization\\test_data\\Ostec_csv.cha\"\n",
    "\n",
    "target = os.path.join(TEST_FILES,\"Ostec_csv.cha\")"
   ]
  },
  {
   "cell_type": "code",
   "execution_count": null,
   "metadata": {},
   "outputs": [],
   "source": [
    "chada_files = chada_io.create(source, target)\n",
    "assert os.path.exists(target)\n",
    "assert chada_files == target"
   ]
  },
  {
   "cell_type": "code",
   "execution_count": null,
   "metadata": {},
   "outputs": [],
   "source": [
    "OS = chada.Chada(target)"
   ]
  },
  {
   "cell_type": "code",
   "execution_count": null,
   "metadata": {},
   "outputs": [],
   "source": [
    "OS.plot()\n",
    "OS.x_crop(100,4000)\n",
    "OS.fit_baseline(niter=1000, smooth=11)\n",
    "OS.fit_baseline(niter=1000, smooth=11)\n",
    "OS.remove_baseline()\n",
    "OS.normalize()\n",
    "OS.peaks(True)"
   ]
  },
  {
   "cell_type": "code",
   "execution_count": null,
   "metadata": {},
   "outputs": [],
   "source": [
    "OS.commit()"
   ]
  },
  {
   "cell_type": "markdown",
   "metadata": {},
   "source": [
    "#### 8.  ENCAPSULAE: csv files bwtek"
   ]
  },
  {
   "cell_type": "code",
   "execution_count": null,
   "metadata": {},
   "outputs": [],
   "source": [
    "source = r\"\\\\vm-stor-51\\alle\\Projekte Kunststoffe\\RD\\MA\\Öffentliche_Projekte\\2020-01-07_230007_H2020-CHARISMA_barton\\Python\\charisma-raman-spectrum-harmonization\\test_data\\Spectrum database\\Charisma_ENCAPSULAE data-BWTEK\\feb 2021_dark substracted\\AS020P frit.csv\"\n",
    "\n",
    "source = os.path.join(TEST_FILES,\"AS020P frit.csv\")\n",
    "assert os.path.join(source)"
   ]
  },
  {
   "cell_type": "markdown",
   "metadata": {},
   "source": [
    "These are comma-separated values with COMMA as decimal. This is a corrupt file format that cannot be reliably imported.\n",
    "\n",
    "Pixel,Wavelength,Wavenumber,Raman Shift,...\n",
    "\n",
    "5,770,20,12983,70,-241,92,..."
   ]
  },
  {
   "cell_type": "code",
   "execution_count": null,
   "metadata": {},
   "outputs": [],
   "source": [
    "from pandas import read_csv"
   ]
  },
  {
   "cell_type": "code",
   "execution_count": null,
   "metadata": {},
   "outputs": [],
   "source": [
    "read_csv(source, skiprows=112)"
   ]
  },
  {
   "cell_type": "code",
   "execution_count": null,
   "metadata": {},
   "outputs": [],
   "source": []
  },
  {
   "cell_type": "markdown",
   "metadata": {},
   "source": [
    "#### 9.  From FNMT - Horiba iHR320"
   ]
  },
  {
   "cell_type": "code",
   "execution_count": null,
   "metadata": {},
   "outputs": [],
   "source": [
    "source = r\"\\\\vm-stor-51\\alle\\Projekte Kunststoffe\\RD\\MA\\Öffentliche_Projekte\\2020-01-07_230007_H2020-CHARISMA_barton\\Python\\charisma-raman-spectrum-harmonization\\test_data\\Spectrum database\\From FNMT - Horiba iHR320\\FNMT-B-Zolix-785S_BTA_PM.txt\"\n",
    "\n",
    "source = os.path.join(TEST_FILES,\"FNMT-B-Zolix-785S_BTA_PM.txt\")\n",
    "assert os.path.exists(source)"
   ]
  },
  {
   "cell_type": "code",
   "execution_count": null,
   "metadata": {},
   "outputs": [],
   "source": [
    "target = r\"\\\\vm-stor-51\\alle\\Projekte Kunststoffe\\RD\\MA\\Öffentliche_Projekte\\2020-01-07_230007_H2020-CHARISMA_barton\\Python\\charisma-raman-spectrum-harmonization\\test_data\\Horiba_txt.cha\"\n",
    "\n",
    "target = os.path.join(TEST_FILES,\"Horiba_txt.cha\")\n",
    "chada_horiba = target"
   ]
  },
  {
   "cell_type": "code",
   "execution_count": null,
   "metadata": {},
   "outputs": [],
   "source": [
    "chada_file = chada_io.create(source, target)\n",
    "assert os.path.exists(target)\n",
    "assert chada_file == target"
   ]
  },
  {
   "cell_type": "code",
   "execution_count": null,
   "metadata": {},
   "outputs": [],
   "source": [
    "HO = chada.Chada(target)"
   ]
  },
  {
   "cell_type": "code",
   "execution_count": null,
   "metadata": {},
   "outputs": [],
   "source": [
    "HO.plot()\n",
    "HO.x_crop(200,4000)\n",
    "HO.fit_baseline(niter=1000, smooth=11)\n",
    "HO.remove_baseline()\n",
    "HO.normalize()\n",
    "HO.peaks(True)"
   ]
  },
  {
   "cell_type": "code",
   "execution_count": null,
   "metadata": {},
   "outputs": [],
   "source": [
    "HO.commit()"
   ]
  },
  {
   "cell_type": "markdown",
   "metadata": {},
   "source": [
    "#### 10.  WITec from FNMT"
   ]
  },
  {
   "cell_type": "code",
   "execution_count": null,
   "metadata": {},
   "outputs": [],
   "source": [
    "source = r\"\\\\vm-stor-51\\alle\\Projekte Kunststoffe\\RD\\MA\\Öffentliche_Projekte\\2020-01-07_230007_H2020-CHARISMA_barton\\Python\\charisma-raman-spectrum-harmonization\\test_data\\Spectrum database\\WITec and BWtek from FNMT\\ICV_WITEC alpha-300 R_BTA_PM.txt.txt\"\n",
    "\n",
    "source = os.path.join(TEST_FILES,\"ICV_WITEC alpha-300 R_BTA_PM.txt.txt\")\n",
    "assert os.path.exists(source)"
   ]
  },
  {
   "cell_type": "code",
   "execution_count": null,
   "metadata": {},
   "outputs": [],
   "source": [
    "target = r\"\\\\vm-stor-51\\alle\\Projekte Kunststoffe\\RD\\MA\\Öffentliche_Projekte\\2020-01-07_230007_H2020-CHARISMA_barton\\Python\\charisma-raman-spectrum-harmonization\\test_data\\WITec_txt.cha\"\n",
    "\n",
    "target = os.path.join(TEST_FILES,\"WITec_txt.cha\")\n",
    "chada_witec=target"
   ]
  },
  {
   "cell_type": "code",
   "execution_count": null,
   "metadata": {},
   "outputs": [],
   "source": [
    "chada_file = chada_io.create(source, target)\n",
    "assert os.path.join(target)\n",
    "assert chada_file==target"
   ]
  },
  {
   "cell_type": "code",
   "execution_count": null,
   "metadata": {},
   "outputs": [],
   "source": [
    "W = chada.Chada(target)"
   ]
  },
  {
   "cell_type": "code",
   "execution_count": null,
   "metadata": {},
   "outputs": [],
   "source": [
    "W.plot()\n",
    "W.x_crop(50,4000)\n",
    "W.fit_baseline(niter=1000, smooth=11)\n",
    "W.fit_baseline(niter=1000, smooth=11)\n",
    "W.remove_baseline()\n",
    "W.normalize()\n",
    "W.peaks(True)"
   ]
  },
  {
   "cell_type": "code",
   "execution_count": null,
   "metadata": {},
   "outputs": [],
   "source": [
    "W.commit()"
   ]
  },
  {
   "cell_type": "markdown",
   "metadata": {},
   "source": [
    "### Now, the chada from all these formats can be compared in one group"
   ]
  },
  {
   "cell_type": "code",
   "execution_count": null,
   "metadata": {},
   "outputs": [],
   "source": [
    "from tkinter.filedialog import askopenfilenames"
   ]
  },
  {
   "cell_type": "code",
   "execution_count": null,
   "metadata": {},
   "outputs": [],
   "source": [
    "from os import walk\n",
    "\n",
    "# in case we want to work with all the chada files in the test folder\n",
    "chada_files = []\n",
    "for root, dirs, files in os.walk(TEST_FILES, topdown=False):\n",
    "    for file in files:\n",
    "        if file.endswith(\".cha\"):\n",
    "            chada_files.append(os.path.join(TEST_FILES,file))\n",
    "        \n",
    "        \n",
    "chada_files"
   ]
  },
  {
   "cell_type": "code",
   "execution_count": null,
   "metadata": {},
   "outputs": [],
   "source": [
    "#files = askopenfilenames()\n",
    "#files\n",
    "\n",
    "files = [\n",
    "\"ICV_WITEC alpha-300 R_BTA_PM.txt.txt\",\n",
    "\"FNMT-B-Zolix-785S_BTA_PM.txt\",\n",
    "\"Si100NoDope_S02.csv\",\n",
    "#\"Ratio3_ROA_L.txt\",\n",
    "\"R040070.rruff.785.txt\",\n",
    "\"2020_03_30_10_05_42_supportAdmin_CaCO.txt\",\n",
    "\"Sample 2 5min analysis Run1.txt\",\n",
    "\"DAAARH_20190517135534_239.txt\",\n",
    "# \"AS020P 7500 2 2.txtr\" - error when using this file\n",
    "]\n",
    "chada_files = []\n",
    "for file in files:\n",
    "    if os.path.exists(os.path.join(TEST_FILES,file)):    \n",
    "        chada_file = chada_io.create(os.path.join(TEST_FILES,file))\n",
    "        chada_files.append(chada_file)\n",
    "chada_files"
   ]
  },
  {
   "cell_type": "code",
   "execution_count": null,
   "metadata": {},
   "outputs": [],
   "source": [
    "G = chada.ChadaGroup(chada_files)"
   ]
  },
  {
   "cell_type": "code",
   "execution_count": null,
   "metadata": {},
   "outputs": [],
   "source": [
    "G.normalize()"
   ]
  },
  {
   "cell_type": "code",
   "execution_count": null,
   "metadata": {},
   "outputs": [],
   "source": [
    "G.plot()"
   ]
  },
  {
   "cell_type": "markdown",
   "metadata": {},
   "source": [
    "### This makes more sense"
   ]
  },
  {
   "cell_type": "code",
   "execution_count": null,
   "metadata": {},
   "outputs": [],
   "source": [
    "#files = askopenfilenames()"
   ]
  },
  {
   "cell_type": "code",
   "execution_count": null,
   "metadata": {},
   "outputs": [],
   "source": [
    "#files"
   ]
  },
  {
   "cell_type": "code",
   "execution_count": null,
   "metadata": {},
   "outputs": [],
   "source": [
    "G1 = chada.ChadaGroup(chada_files)"
   ]
  },
  {
   "cell_type": "code",
   "execution_count": null,
   "metadata": {},
   "outputs": [],
   "source": [
    "G1.normalize('vector')\n",
    "G1.plot()"
   ]
  },
  {
   "cell_type": "markdown",
   "metadata": {},
   "source": [
    "### There seems to be an x shift. Let's calibrate Horiba to WITec!"
   ]
  },
  {
   "cell_type": "code",
   "execution_count": null,
   "metadata": {},
   "outputs": [],
   "source": [
    "G1.distance()"
   ]
  },
  {
   "cell_type": "markdown",
   "metadata": {},
   "source": [
    "#### Make calibration file"
   ]
  },
  {
   "cell_type": "code",
   "execution_count": null,
   "metadata": {},
   "outputs": [],
   "source": [
    "from ramanchada import chada_calibration"
   ]
  },
  {
   "cell_type": "code",
   "execution_count": null,
   "metadata": {},
   "outputs": [],
   "source": [
    "from ramanchada import chada_calibration\n",
    "chada_horiba = chada_io.create(os.path.join(TEST_FILES,\"FNMT-B-Zolix-785S_BTA_PM.txt\"))\n",
    "chada_witec = chada_io.create(os.path.join(TEST_FILES,\"ICV_WITEC alpha-300 R_BTA_PM.txt.txt\"))\n",
    "peak, shift, calfile = chada_calibration.makeXCalFromSpec(chada_horiba,chada_witec, bounds=[-10.,10.], cal_range=[200,1150])"
   ]
  },
  {
   "cell_type": "markdown",
   "metadata": {},
   "source": [
    "#### Calibrate target chada file with calibration file"
   ]
  },
  {
   "cell_type": "code",
   "execution_count": null,
   "metadata": {},
   "outputs": [],
   "source": [
    "#calfile = r\"\\\\vm-stor-51\\alle\\Projekte Kunststoffe\\RD\\MA\\Öffentliche_Projekte\\2020-01-07_230007_H2020-CHARISMA_barton\\Python\\charisma-raman-spectrum-harmonization\\test_data\\Horiba_txt.chacal\"\n",
    "\n",
    "#calfile = os.path.join(TEST_FILES,\"Horiba_txt.chacal\")\n",
    "assert os.path.exists(calfile)"
   ]
  },
  {
   "cell_type": "code",
   "execution_count": null,
   "metadata": {},
   "outputs": [],
   "source": [
    "T = chada.Chada(chada_horiba)"
   ]
  },
  {
   "cell_type": "code",
   "execution_count": null,
   "metadata": {},
   "outputs": [],
   "source": [
    "T.XCalFromFile(calfile)"
   ]
  },
  {
   "cell_type": "code",
   "execution_count": null,
   "metadata": {},
   "outputs": [],
   "source": [
    "T.commit()"
   ]
  },
  {
   "cell_type": "markdown",
   "metadata": {},
   "source": [
    "#### Build same group again to check calibration"
   ]
  },
  {
   "cell_type": "code",
   "execution_count": null,
   "metadata": {},
   "outputs": [],
   "source": [
    "G1 = chada.ChadaGroup([chada_horiba,chada_witec])"
   ]
  },
  {
   "cell_type": "code",
   "execution_count": null,
   "metadata": {},
   "outputs": [],
   "source": [
    "G1.normalize('vector')\n",
    "G1.plot()"
   ]
  },
  {
   "attachments": {
    "grafik.png": {
     "image/png": "[encoded data removed]"
    }
   },
   "cell_type": "markdown",
   "metadata": {},
   "source": [
    "Before:\n",
    "\n",
    "![grafik.png](attachment:grafik.png)"
   ]
  },
  {
   "cell_type": "code",
   "execution_count": null,
   "metadata": {},
   "outputs": [],
   "source": [
    "G1.normalize('minmax')\n",
    "G1.plot()"
   ]
  },
  {
   "cell_type": "code",
   "execution_count": null,
   "metadata": {},
   "outputs": [],
   "source": []
  }
 ],
 "metadata": {
  "kernelspec": {
   "display_name": "Python 3",
   "language": "python",
   "name": "python3"
  },
  "language_info": {
   "codemirror_mode": {
    "name": "ipython",
    "version": 3
   },
   "file_extension": ".py",
   "mimetype": "text/x-python",
   "name": "python",
   "nbconvert_exporter": "python",
   "pygments_lexer": "ipython3",
   "version": "3.8.5"
  }
 },
 "nbformat": 4,
 "nbformat_minor": 4
}
